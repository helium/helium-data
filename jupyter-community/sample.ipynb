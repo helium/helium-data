{
 "cells": [
  {
   "cell_type": "code",
   "execution_count": 2,
   "id": "34e092bb-7ee2-4285-8855-839fb0251df0",
   "metadata": {},
   "outputs": [
    {
     "name": "stdout",
     "output_type": "stream",
     "text": [
      "root\n",
      " |-- gateway_tmst: decimal(23,0) (nullable = true)\n",
      " |-- oui: decimal(23,0) (nullable = true)\n",
      " |-- net_id: long (nullable = true)\n",
      " |-- rssi: integer (nullable = true)\n",
      " |-- frequency: long (nullable = true)\n",
      " |-- snr: float (nullable = true)\n",
      " |-- datarate: string (nullable = true)\n",
      " |-- region: string (nullable = true)\n",
      " |-- gateway: binary (nullable = true)\n",
      " |-- payload_hash: binary (nullable = true)\n",
      " |-- payload_size: long (nullable = true)\n",
      " |-- free: boolean (nullable = true)\n",
      " |-- type: string (nullable = true)\n",
      " |-- received_timestamp: decimal(23,0) (nullable = true)\n",
      " |-- file: string (nullable = true)\n",
      "\n",
      "+------------+---+------+----+---------+-----+---------+------+----------------------------------------------------------------------------------------------------+-------------------------------------------------------------------------------------------------+------------+-----+----+------------------+--------------------------------------------------------------------------------------------------+\n",
      "|gateway_tmst|oui|net_id|rssi|frequency|snr  |datarate |region|gateway                                                                                             |payload_hash                                                                                     |payload_size|free |type|received_timestamp|file                                                                                              |\n",
      "+------------+---+------+----+---------+-----+---------+------+----------------------------------------------------------------------------------------------------+-------------------------------------------------------------------------------------------------+------------+-----+----+------------------+--------------------------------------------------------------------------------------------------+\n",
      "|4272625755  |12 |36    |2   |868100000|9.5  |SF7BW125 |EU868 |[00 98 EA 7E 17 56 10 D1 EE 4F 49 45 75 F8 05 42 DC C0 F6 4E DE 48 7C 61 20 CB F9 45 60 4F 36 7F F0]|[8A ED A8 62 64 66 E1 0E A0 79 95 70 63 CE 9B 53 08 0B 07 17 10 A6 13 3D CE 64 0B 22 49 09 A3 59]|22          |false|    |0                 |s3://foundation-poc-data-requester-pays/foundation-iot-packet-ingest/packetreport.1682327398354.gz|\n",
      "|3525719892  |6  |36    |-126|868100000|-18.0|         |EU868 |[00 10 47 17 6D 1B 76 41 AB A4 02 3A 3B BC D2 8B 87 3A C4 7B EC 9D 9B 95 E0 A8 D5 18 5A A0 C7 F3 EE]|[AB 77 E8 D4 18 D2 7D 51 A0 CB 04 79 63 8A 62 56 12 9C 96 E6 6D 1C F6 B4 A1 77 EF A0 7F 5B 95 F9]|29          |false|    |0                 |s3://foundation-poc-data-requester-pays/foundation-iot-packet-ingest/packetreport.1682327398354.gz|\n",
      "|1574931770  |1  |36    |-123|868300000|-16.0|         |EU868 |[00 61 16 20 0E 0E 95 4E 45 94 DE CA B5 92 E8 24 38 95 AF 15 99 2A 8E 96 C5 09 CD DF 22 1F 5B 0A 6F]|[22 F7 55 7E 3C 34 0A FB A3 FB 3C 18 3D CD CD B2 B6 E5 0A 09 02 27 66 6A C1 0F 98 EB F0 4B 94 0D]|34          |false|    |0                 |s3://foundation-poc-data-requester-pays/foundation-iot-packet-ingest/packetreport.1682327398354.gz|\n",
      "|1161278314  |1  |36    |-116|868300000|-11.0|         |EU868 |[00 1A BC 9F 35 C3 5A AA CB CE 1F 60 CA 66 0B 28 B2 5E 16 DE B4 8A 12 6C 12 1A 4B B6 FB AB B6 96 22]|[22 F7 55 7E 3C 34 0A FB A3 FB 3C 18 3D CD CD B2 B6 E5 0A 09 02 27 66 6A C1 0F 98 EB F0 4B 94 0D]|34          |false|    |0                 |s3://foundation-poc-data-requester-pays/foundation-iot-packet-ingest/packetreport.1682327398354.gz|\n",
      "|2211542818  |1  |36    |-111|868300000|-6.0 |         |EU868 |[00 27 2C AC 01 12 CC A4 5C 9F 95 9C 78 C9 E1 AC F3 42 34 28 BC CE 5B 0C 42 BC A4 6A A0 4C C8 18 8C]|[22 F7 55 7E 3C 34 0A FB A3 FB 3C 18 3D CD CD B2 B6 E5 0A 09 02 27 66 6A C1 0F 98 EB F0 4B 94 0D]|34          |false|    |0                 |s3://foundation-poc-data-requester-pays/foundation-iot-packet-ingest/packetreport.1682327398354.gz|\n",
      "|1228111311  |6  |36    |-132|868100000|-17.8|         |EU868 |[00 C8 4E 73 55 67 DF C7 D7 BC A2 F2 72 1F B6 48 A9 9A 49 F3 62 50 25 D9 F6 59 C1 8C 90 DC C9 C3 49]|[AB 77 E8 D4 18 D2 7D 51 A0 CB 04 79 63 8A 62 56 12 9C 96 E6 6D 1C F6 B4 A1 77 EF A0 7F 5B 95 F9]|29          |false|    |0                 |s3://foundation-poc-data-requester-pays/foundation-iot-packet-ingest/packetreport.1682327398354.gz|\n",
      "|1720105362  |6  |36    |-112|868100000|-4.8 |         |EU868 |[00 BC 79 2B 3E 87 0C 80 F5 62 D1 0E 1B 44 18 DD 99 45 64 85 7C 65 F1 4C A3 05 8D 43 1D CB 32 3A 5B]|[AB 77 E8 D4 18 D2 7D 51 A0 CB 04 79 63 8A 62 56 12 9C 96 E6 6D 1C F6 B4 A1 77 EF A0 7F 5B 95 F9]|29          |false|    |0                 |s3://foundation-poc-data-requester-pays/foundation-iot-packet-ingest/packetreport.1682327398354.gz|\n",
      "|1813164724  |6  |36    |-128|868100000|-15.0|         |EU868 |[00 40 3D 38 B7 86 E8 E4 EA 18 7B DE 60 8C F3 45 0C EA A0 E2 B4 3C AB 5B 0F 16 23 88 BD 82 D0 80 D9]|[AB 77 E8 D4 18 D2 7D 51 A0 CB 04 79 63 8A 62 56 12 9C 96 E6 6D 1C F6 B4 A1 77 EF A0 7F 5B 95 F9]|29          |false|    |0                 |s3://foundation-poc-data-requester-pays/foundation-iot-packet-ingest/packetreport.1682327398354.gz|\n",
      "|3320247764  |6  |36    |-140|868100000|-19.8|         |EU868 |[00 E3 85 7A 88 E3 B6 5F 6C 57 74 27 EE 9E EA 33 E3 FB 23 F5 60 15 D4 3F 10 58 47 84 7E C3 DD B8 8A]|[AB 77 E8 D4 18 D2 7D 51 A0 CB 04 79 63 8A 62 56 12 9C 96 E6 6D 1C F6 B4 A1 77 EF A0 7F 5B 95 F9]|29          |false|    |0                 |s3://foundation-poc-data-requester-pays/foundation-iot-packet-ingest/packetreport.1682327398354.gz|\n",
      "|2799439768  |12 |36    |-112|868100000|1.8  |SF7BW125 |EU868 |[00 84 3B 3F 6A 44 FE 20 39 66 83 0E C2 FA 93 1C BA 03 5B 75 2A A2 8E 28 BF 36 A0 CC 23 EE DE 0D 6D]|[8A ED A8 62 64 66 E1 0E A0 79 95 70 63 CE 9B 53 08 0B 07 17 10 A6 13 3D CE 64 0B 22 49 09 A3 59]|22          |false|    |0                 |s3://foundation-poc-data-requester-pays/foundation-iot-packet-ingest/packetreport.1682327398354.gz|\n",
      "|1266881148  |1  |36    |-104|868100000|-1.0 |SF8BW125 |EU868 |[00 E0 1D A5 77 BE C2 B2 B7 EF E3 45 39 9C 64 E7 1F 34 AC A7 AE 8E 81 9A CE 85 90 3C 61 94 F3 07 C9]|[4D 44 4F A8 BC 81 96 E5 1F AF 3E E1 A5 1F 15 4B D6 33 C0 1D DB 97 EB F5 0D 64 30 10 19 DC 43 3A]|23          |false|    |0                 |s3://foundation-poc-data-requester-pays/foundation-iot-packet-ingest/packetreport.1682327398354.gz|\n",
      "|2933009601  |1  |36    |-141|868500000|-17.4|         |EU868 |[00 CB 7D AE A7 7C B7 5E F3 37 60 69 54 92 9D A0 82 71 6B 3E 35 37 F1 70 B4 D7 CB 80 AC F7 06 0A F1]|[CD 45 F0 C0 E9 73 41 7F 97 78 F9 8E 34 CD 83 0B A7 36 C7 E6 FE 9D 7B 48 08 45 F3 11 D4 46 8C 6D]|22          |false|    |0                 |s3://foundation-poc-data-requester-pays/foundation-iot-packet-ingest/packetreport.1682327398354.gz|\n",
      "|928438564   |1  |36    |-129|868500000|-21.5|         |EU868 |[00 F1 4B 95 02 F5 4D FA 38 B5 CB 07 C2 4C 7A E5 C1 B7 D2 C5 B8 2C E7 78 C0 C2 A2 7C CC 42 56 F2 7F]|[CD 45 F0 C0 E9 73 41 7F 97 78 F9 8E 34 CD 83 0B A7 36 C7 E6 FE 9D 7B 48 08 45 F3 11 D4 46 8C 6D]|22          |false|    |0                 |s3://foundation-poc-data-requester-pays/foundation-iot-packet-ingest/packetreport.1682327398354.gz|\n",
      "|2517249892  |1  |36    |-106|868100000|7.8  |SF8BW125 |EU868 |[00 14 A5 60 92 7D 1C 0F 67 20 02 71 78 C3 9D A1 C8 43 0D 6F 98 AC 5B 9E 5B FD 64 F7 DB 1E 98 48 94]|[4D 44 4F A8 BC 81 96 E5 1F AF 3E E1 A5 1F 15 4B D6 33 C0 1D DB 97 EB F5 0D 64 30 10 19 DC 43 3A]|23          |false|    |0                 |s3://foundation-poc-data-requester-pays/foundation-iot-packet-ingest/packetreport.1682327398354.gz|\n",
      "|2876431499  |1  |36    |-123|868300000|-4.8 |SF7BW125 |EU868 |[00 63 41 69 9F 10 65 AC 63 3D 2B FC 5F 24 86 D8 D1 11 39 E7 DE AA D3 A2 43 65 73 EA BB 03 05 B5 36]|[C1 CC B2 A4 16 FA C6 3D 8A 7E B0 49 CF A4 72 75 2C 47 A9 D3 A2 BF 34 3D 53 52 62 9E C4 1D A4 68]|23          |false|    |0                 |s3://foundation-poc-data-requester-pays/foundation-iot-packet-ingest/packetreport.1682327398354.gz|\n",
      "|2517080184  |1  |36    |-112|868300000|0.5  |SF10BW125|EU868 |[00 14 A5 60 92 7D 1C 0F 67 20 02 71 78 C3 9D A1 C8 43 0D 6F 98 AC 5B 9E 5B FD 64 F7 DB 1E 98 48 94]|[CC E3 88 6C 23 F3 5C 9B 1A 8C B8 20 EF 8F 46 C9 37 CB 9D 47 D5 EA 6A 12 31 35 C8 44 F6 76 39 C2]|23          |false|    |0                 |s3://foundation-poc-data-requester-pays/foundation-iot-packet-ingest/packetreport.1682327398354.gz|\n",
      "|1614470700  |1  |36    |-119|868500000|-15.5|         |EU868 |[00 6E 50 E2 C7 8B C2 58 DE 9A FB FF F8 6F 24 B4 5F 36 61 E6 AE 1C 1E A9 EA 44 2C 9E DB 95 AD DC 7E]|[B6 1B BF A5 2F B5 A5 98 A3 E8 9B 7B CE 22 C5 9A 8B A7 6A 62 B3 51 F7 E1 4E 48 13 33 0B A0 40 52]|23          |false|    |0                 |s3://foundation-poc-data-requester-pays/foundation-iot-packet-ingest/packetreport.1682327398354.gz|\n",
      "|2062279745  |1  |36    |-123|868300000|-3.0 |SF7BW125 |EU868 |[00 D9 ED 15 92 85 7A BF 2F D3 53 14 29 20 A3 FB D0 E0 9C CA CD 66 EE E5 9A 95 F7 18 57 A1 1B CC B8]|[C1 CC B2 A4 16 FA C6 3D 8A 7E B0 49 CF A4 72 75 2C 47 A9 D3 A2 BF 34 3D 53 52 62 9E C4 1D A4 68]|23          |false|    |0                 |s3://foundation-poc-data-requester-pays/foundation-iot-packet-ingest/packetreport.1682327398354.gz|\n",
      "|1227484946  |1  |36    |-114|868500000|-3.0 |         |EU868 |[00 C8 4E 73 55 67 DF C7 D7 BC A2 F2 72 1F B6 48 A9 9A 49 F3 62 50 25 D9 F6 59 C1 8C 90 DC C9 C3 49]|[B8 E2 9D C1 D5 36 FF A6 86 C5 A5 2D 03 BF 09 C3 4B E8 78 52 84 D9 C2 F9 3A A5 8C 49 AF C0 5B 7D]|23          |false|    |0                 |s3://foundation-poc-data-requester-pays/foundation-iot-packet-ingest/packetreport.1682327398354.gz|\n",
      "|1434691026  |1  |36    |-103|868300000|11.0 |SF9BW125 |EU868 |[00 F8 6C 2D 9F 76 05 AE BD 86 7A EF B9 F7 13 C2 5F 24 3B DD E4 02 E1 2A 88 CB FE 9F 7A 99 1D B8 87]|[95 D0 BF 8B 11 05 C1 5B CB 1A 72 76 70 B7 FC 64 26 4D FC B2 37 6A FE 67 EA BD B4 92 44 0E 20 F7]|24          |false|    |0                 |s3://foundation-poc-data-requester-pays/foundation-iot-packet-ingest/packetreport.1682327398354.gz|\n",
      "+------------+---+------+----+---------+-----+---------+------+----------------------------------------------------------------------------------------------------+-------------------------------------------------------------------------------------------------+------------+-----+----+------------------+--------------------------------------------------------------------------------------------------+\n",
      "only showing top 20 rows\n",
      "\n"
     ]
    }
   ],
   "source": [
    "import pyspark\n",
    "from pyspark.sql import SparkSession\n",
    "spark=SparkSession.builder.appName(\"parquetFile\").getOrCreate()\n",
    "parDF1=spark.read.parquet(\"/home/jovyan/work/c000.parquet\")\n",
    "parDF1.createOrReplaceTempView(\"parquetTable\")\n",
    "parDF1.printSchema()\n",
    "parDF1.show(truncate=False)"
   ]
  },
  {
   "cell_type": "code",
   "execution_count": null,
   "id": "efebf327-04e1-4b11-a96c-eb2899dc5dbb",
   "metadata": {},
   "outputs": [],
   "source": []
  }
 ],
 "metadata": {
  "kernelspec": {
   "display_name": "Python 3 (ipykernel)",
   "language": "python",
   "name": "python3"
  },
  "language_info": {
   "codemirror_mode": {
    "name": "ipython",
    "version": 3
   },
   "file_extension": ".py",
   "mimetype": "text/x-python",
   "name": "python",
   "nbconvert_exporter": "python",
   "pygments_lexer": "ipython3",
   "version": "3.11.4"
  }
 },
 "nbformat": 4,
 "nbformat_minor": 5
}
