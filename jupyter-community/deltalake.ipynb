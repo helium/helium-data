{
 "cells": [
  {
   "cell_type": "markdown",
   "id": "1db625cc-9ef2-4acd-809e-2e6ce7547fe8",
   "metadata": {},
   "source": [
    "# Helium and Delta Lake\n",
    "\n",
    "The Helium Foundation will soon publish all oracle S3 data files in the Delta Lake and Parquet format. Delta Lake, Parquet and Spark are modern standards for accessing and querying massive data tables. Delta Lake is easy to use after you've installed the right tools. With Spark, Jupyter and Delta Lake you can efficiently query Helium network data using standard SQL commands.\n",
    "\n",
    "Using Parquet, the Helium Foundation will be able to provide data which is 30 to 50% smaller than the equivalent raw data in protobuf format. Additionally Parquet data has integrated schemas which make parsing and querying the data much simpler. Parquet is the data format of choice by data scientists.\n",
    "\n",
    "We hope the community enjoys these new data tools and look forward to collaborating and integrating future community contributions.\n",
    "\n",
    "The following Jupyter notebook shows how to access Helium Foundations's S3 files and SQL query the S3 files using Spark DataFrames."
   ]
  },
  {
   "cell_type": "markdown",
   "id": "1a9abbc6-573a-4ed8-bc8d-6b7866c63bc1",
   "metadata": {},
   "source": [
    "## Jupyter Setup Instructions\n",
    "From a Jupyter Terminal install delta-spark and create the AWS credentials file\n",
    "\n",
    "```\n",
    "pip install delta-spark\n",
    "pip3 install boto3\n",
    "mkdir /home/jovyan/.aws\n",
    "# Set your access_key, secret_access_key and session_token\n",
    "vi /home/jovyan/.aws/credentials\n",
    "```"
   ]
  },
  {
   "cell_type": "markdown",
   "id": "1ca5229b-b893-4b91-ad45-b753ccab15fd",
   "metadata": {},
   "source": [
    "## Verify your AWS connection\n",
    "\n",
    "Verify your account credentials are working and Jupyter can connect to AWS\n",
    "\n",
    "> **Warning**\n",
    "> AWS queries carry the risk of high S3 egress fees when the data is transfered outside of us-west-2.  \n",
    "> As a matter of practice, it is recommended to keep the following in mind:\n",
    "> * Specify a limited date range on all queries.\n",
    "> * Repeated queries will incur additional cost."
   ]
  },
  {
   "cell_type": "code",
   "execution_count": 1,
   "id": "2998b070-ee45-43fa-b980-a003de614835",
   "metadata": {},
   "outputs": [
    {
     "name": "stdout",
     "output_type": "stream",
     "text": [
      "bronze/lora_poc_v1/_delta_log/00000000000000000000.json\n",
      "bronze/lora_poc_v1/_delta_log/00000000000000000001.json\n",
      "bronze/lora_poc_v1/_delta_log/00000000000000000002.json\n",
      "bronze/lora_poc_v1/_delta_log/00000000000000000003.json\n",
      "bronze/lora_poc_v1/_delta_log/00000000000000000004.json\n",
      "bronze/lora_poc_v1/_delta_log/00000000000000000005.json\n",
      "bronze/lora_poc_v1/_delta_log/00000000000000000006.json\n",
      "bronze/lora_poc_v1/_delta_log/00000000000000000007.json\n",
      "bronze/lora_poc_v1/_delta_log/00000000000000000008.json\n",
      "bronze/lora_poc_v1/_delta_log/00000000000000000009.json\n"
     ]
    }
   ],
   "source": [
    "import boto3\n",
    "\n",
    "session = boto3.Session(profile_name='default')\n",
    "s3 = session.client('s3')\n",
    "\n",
    "#s3.get_bucket_location(Bucket='foundation-data-lake-requester-pays', RequestPayer='requester')\n",
    "#s3.get_bucket_location(Bucket='foundation-data-lake-requester-pays')\n",
    "\n",
    "for key in s3.list_objects(Bucket='foundation-data-lake-requester-pays', Prefix='bronze/lora_poc_v1/_delta_log/0000000000000000000', RequestPayer='requester')['Contents']:\n",
    "    print(key['Key'])"
   ]
  },
  {
   "cell_type": "markdown",
   "id": "2d6d69e1-a51c-4477-a6c7-e57fc1b6a3c7",
   "metadata": {},
   "source": [
    "## Start Spark Session\n",
    "\n",
    "### Known Issues\n",
    "\n",
    "S3 requires requester pays headers which is not supported until Spark 3.4.2 / Hadoop 3.3.5.\n",
    "\n",
    "https://github.com/jupyter/docker-stacks/issues/1937"
   ]
  },
  {
   "cell_type": "code",
   "execution_count": 8,
   "id": "63105f2f-4366-48e9-b7e5-d461e10b094b",
   "metadata": {},
   "outputs": [
    {
     "name": "stdout",
     "output_type": "stream",
     "text": [
      "Spark version = 3.4.1\n",
      "Hadoop version = 3.3.4\n"
     ]
    }
   ],
   "source": [
    "import pyspark\n",
    "from pyspark.sql import SparkSession\n",
    "from delta import *\n",
    "\n",
    "builder = SparkSession.builder.master(\"local[*]\") \\\n",
    "    .appName(\"PySparkLocal\") \\\n",
    "    .config(\"spark.sql.extensions\", \"io.delta.sql.DeltaSparkSessionExtension\") \\\n",
    "    .config(\"spark.sql.catalog.spark_catalog\", \"org.apache.spark.sql.delta.catalog.DeltaCatalog\") \\\n",
    "    .config(\"fs.s3a.aws.credentials.provider\", \"com.amazonaws.auth.DefaultAWSCredentialsProviderChain\")\n",
    "\n",
    "my_packages = [\"org.apache.hadoop:hadoop-aws:3.3.4\"]\n",
    "spark = configure_spark_with_delta_pip(builder, extra_packages=my_packages).getOrCreate()\n",
    "spark.conf.set(\"spark.hadoop.fs.s3a.impl\", \"org.apache.hadoop.fs.s3a.S3AFileSystem\")\n",
    "spark.conf.set(\"spark.hadoop.fs.s3a.requester-pays.enabled\", \"true\")\n",
    "spark.conf.set(\"spark.hadoop.delta.enableFastS3AListFrom\", \"true\")\n",
    "\n",
    "# Spark 3.4.2 or higher is required\n",
    "print(f\"Spark version = {spark.version}\")\n",
    "\n",
    "# hadoop 3.3.6 or higher is required to support S3 requester pays\n",
    "print(f\"Hadoop version = {spark._sc._jvm.org.apache.hadoop.util.VersionInfo.getVersion()}\")"
   ]
  },
  {
   "cell_type": "markdown",
   "id": "ecee4b02-07d8-4c00-8e87-90e8931c53e4",
   "metadata": {},
   "source": [
    "## Read Table from Delta Lake"
   ]
  },
  {
   "cell_type": "code",
   "execution_count": 4,
   "id": "ff6e230d-0ff1-4eff-abcd-507474379554",
   "metadata": {},
   "outputs": [
    {
     "name": "stdout",
     "output_type": "stream",
     "text": [
      "+------------+---+------+----+---------+-----+--------+------+--------------------+--------------------+------------+-----+------+------------------+----------+--------------------+\n",
      "|gateway_tmst|oui|net_id|rssi|frequency|  snr|datarate|region|             gateway|        payload_hash|payload_size| free|  type|received_timestamp|      date|                file|\n",
      "+------------+---+------+----+---------+-----+--------+------+--------------------+--------------------+------------+-----+------+------------------+----------+--------------------+\n",
      "|   658952164|  1|    36|-101|865402500|  0.8|        | IN865|[00 E7 36 B0 62 B...|[AC 47 D5 30 D3 E...|          23|false|      |     1685577861837|2023-06-01|s3://foundation-p...|\n",
      "|  1606199439| 12|    36|-125|905300000|-12.8|SF9BW125|      |[00 E2 70 E6 BC 3...|[AB 37 01 00 F7 7...|          24|false|uplink|     1685578035208|2023-06-01|s3://foundation-p...|\n",
      "|  2993796500| 12|    36|-140|868500000|-22.0|        | EU868|[00 BC 08 55 20 C...|[82 AF 94 84 D1 7...|          23|false|      |     1685577762496|2023-06-01|s3://foundation-p...|\n",
      "|   126200036| 12|    36|-130|868500000|-22.2|        | EU868|[00 3E 7B 65 AC 3...|[82 AF 94 84 D1 7...|          23|false|      |     1685577762513|2023-06-01|s3://foundation-p...|\n",
      "|  2120651986| 12|    36|-135|868500000|-21.0|        | EU868|[00 DD 2F 2B 4E B...|[82 AF 94 84 D1 7...|          23|false|      |     1685577762514|2023-06-01|s3://foundation-p...|\n",
      "|  3843389367|  1|    36|-104|865402500| -4.8|        | IN865|[00 5A 30 CC 38 5...|[92 46 D6 9F E9 D...|          23|false|      |     1685577762538|2023-06-01|s3://foundation-p...|\n",
      "|   123459629| 12|    36|-132|868500000|-18.8|        | EU868|[00 5B 99 2B DF 1...|[82 AF 94 84 D1 7...|          23|false|      |     1685577762523|2023-06-01|s3://foundation-p...|\n",
      "|    57232604| 12|    36|-121|868500000| -5.5|        | EU868|[00 5A C9 28 B6 2...|[82 AF 94 84 D1 7...|          23|false|      |     1685577762538|2023-06-01|s3://foundation-p...|\n",
      "|  1513998945| 12|    36|-128|868500000|-18.2|        | EU868|[00 1D C5 06 30 B...|[82 AF 94 84 D1 7...|          23|false|      |     1685577762521|2023-06-01|s3://foundation-p...|\n",
      "|  1858028083| 12|    36|-120|868100000| -9.2|        | EU868|[00 52 DC 84 FF 7...|[34 0E 7D 64 3E D...|          29|false|uplink|     1685577762483|2023-06-01|s3://foundation-p...|\n",
      "|  2730008595| 12|    36|-115|868100000| -4.8|        | EU868|[00 0E E1 2C E3 4...|[34 0E 7D 64 3E D...|          29|false|uplink|     1685577762485|2023-06-01|s3://foundation-p...|\n",
      "|  1243168385| 12|    36|-137|868500000|-18.8|        | EU868|[00 46 E4 8B 30 7...|[82 AF 94 84 D1 7...|          23|false|      |     1685577762602|2023-06-01|s3://foundation-p...|\n",
      "|  1814318719| 12|    36|-123|868500000|-12.5|        | EU868|[00 17 89 7F F6 7...|[82 AF 94 84 D1 7...|          23|false|      |     1685577762596|2023-06-01|s3://foundation-p...|\n",
      "|   987022441| 12|    36|-136|868500000|-20.8|        | EU868|[00 5F F4 CA 76 7...|[82 AF 94 84 D1 7...|          23|false|      |     1685577762599|2023-06-01|s3://foundation-p...|\n",
      "|  2482984948| 12|    36|-130|868500000|-20.5|        | EU868|[00 7D 9C 55 23 4...|[82 AF 94 84 D1 7...|          23|false|      |     1685577762587|2023-06-01|s3://foundation-p...|\n",
      "|  1301182047| 12|    36|-134|868300000|-22.8|        | EU868|[00 AA 07 D9 0B 9...|[27 7A C0 87 05 5...|          29|false|uplink|     1685577762576|2023-06-01|s3://foundation-p...|\n",
      "|  1531301848|  1|    36|-115|865062500| -5.2|        | IN865|[00 89 9D 23 2F 5...|[46 47 95 2B AE 8...|          23|false|      |     1685577762693|2023-06-01|s3://foundation-p...|\n",
      "|  1563771104| 12|    36|-135|868300000|-21.0|        | EU868|[00 CB 37 35 F7 7...|[27 7A C0 87 05 5...|          29|false|uplink|     1685577762657|2023-06-01|s3://foundation-p...|\n",
      "|   629918028| 12|    36|-121|868300000| -7.0|        | EU868|[00 B9 FC 7B 53 D...|[27 7A C0 87 05 5...|          29|false|uplink|     1685577762620|2023-06-01|s3://foundation-p...|\n",
      "|  1277301924| 12|    36|-127|868300000|-10.2|        | EU868|[00 7B 19 CE 40 F...|[27 7A C0 87 05 5...|          29|false|uplink|     1685577762669|2023-06-01|s3://foundation-p...|\n",
      "+------------+---+------+----+---------+-----+--------+------+--------------------+--------------------+------------+-----+------+------------------+----------+--------------------+\n",
      "only showing top 20 rows\n",
      "\n"
     ]
    }
   ],
   "source": [
    "delta_table_uri=\"s3a://foundation-data-lake-requester-pays/bronze/packet_router_packet_report_v1/\"\n",
    "df = spark.read.format(\"delta\").load(delta_table_uri).createOrReplaceTempView(\"packets\")\n",
    "sqlDF = spark.sql(\"SELECT * FROM packets WHERE date = '2023-6-1'\")\n",
    "sqlDF.show()"
   ]
  },
  {
   "cell_type": "markdown",
   "id": "b0ba5025-0d2f-48f5-abf0-100bbee06200",
   "metadata": {},
   "source": [
    "## Query Table using SQL"
   ]
  },
  {
   "cell_type": "code",
   "execution_count": 6,
   "id": "a03bc859-fe90-492a-ac04-54809116dc44",
   "metadata": {},
   "outputs": [
    {
     "name": "stdout",
     "output_type": "stream",
     "text": [
      "+------------+\n",
      "|payload_size|\n",
      "+------------+\n",
      "|23          |\n",
      "|24          |\n",
      "|23          |\n",
      "|23          |\n",
      "|23          |\n",
      "+------------+\n",
      "\n"
     ]
    }
   ],
   "source": [
    "spark.sql(\"\"\"\\\n",
    "SELECT payload_size\n",
    "FROM packets\n",
    "where \n",
    "      date = '2023-06-01'\n",
    "limit 5\n",
    "\"\"\").show(truncate=False)"
   ]
  },
  {
   "cell_type": "code",
   "execution_count": 7,
   "id": "87f17ba8-65c6-40a7-a2da-bc9b57511a75",
   "metadata": {},
   "outputs": [
    {
     "name": "stdout",
     "output_type": "stream",
     "text": [
      "root\n",
      " |-- gateway_tmst: decimal(23,0) (nullable = true)\n",
      " |-- oui: decimal(23,0) (nullable = true)\n",
      " |-- net_id: long (nullable = true)\n",
      " |-- rssi: integer (nullable = true)\n",
      " |-- frequency: long (nullable = true)\n",
      " |-- snr: float (nullable = true)\n",
      " |-- datarate: string (nullable = true)\n",
      " |-- region: string (nullable = true)\n",
      " |-- gateway: binary (nullable = true)\n",
      " |-- payload_hash: binary (nullable = true)\n",
      " |-- payload_size: long (nullable = true)\n",
      " |-- free: boolean (nullable = true)\n",
      " |-- type: string (nullable = true)\n",
      " |-- received_timestamp: decimal(23,0) (nullable = true)\n",
      " |-- date: date (nullable = false)\n",
      " |-- file: string (nullable = true)\n",
      "\n"
     ]
    }
   ],
   "source": [
    "sqlDF.printSchema()"
   ]
  },
  {
   "cell_type": "markdown",
   "id": "1a37506c-c152-4c07-88a1-7123ee702d32",
   "metadata": {},
   "source": [
    "## Working with Local Files\n",
    "\n",
    "Working with S3 can incur egress costs.\n",
    "If you wish to work with a local filesytem (rather than S3).  Install the AWS Cli.\n",
    "Next Sync the Helium S3 files to the local file system under ../work/s3\n",
    "\n",
    "```\n",
    "aws s3 sync s3://foundation-data-lake-requester-pays/bronze/packet_router_packet_report_v1/ . --exclude \"date=1970-01-01/\"\n",
    "```"
   ]
  },
  {
   "cell_type": "code",
   "execution_count": null,
   "id": "965934da-f003-4b96-b66b-1459d539eb13",
   "metadata": {},
   "outputs": [],
   "source": [
    "df_local = spark.read.format(\"delta\").load(\"/home/jovyan/work/s3\")\n",
    "df_local.show()"
   ]
  },
  {
   "cell_type": "markdown",
   "id": "7066cb91-7d49-4534-8ff6-6a5cf6e1b6ca",
   "metadata": {},
   "source": [
    "## References\n",
    "\n",
    "### Delta Lake\n",
    "\n",
    "* https://delta.io/\n",
    "* https://sparkbyexamples.com/pyspark/pyspark-read-and-write-parquet-file/?expand_article=1\n",
    "* https://confluence.technologynursery.org/display/TDA/Jupyter+Notebook+for+Playing+with+Spark%2C+Python%2C+R%2C+Scala\n",
    "* https://jupyter-docker-stacks.readthedocs.io/en/latest/using/selecting.html#jupyter-pyspark-notebook\n",
    "\n",
    "### Spark\n",
    "* https://nbviewer.org/github/almond-sh/examples/blob/master/notebooks/spark.ipynb"
   ]
  },
  {
   "cell_type": "code",
   "execution_count": null,
   "id": "ec3583a0-e3b7-49b7-8ee7-20d2666ff931",
   "metadata": {},
   "outputs": [],
   "source": []
  }
 ],
 "metadata": {
  "kernelspec": {
   "display_name": "Python 3 (ipykernel)",
   "language": "python",
   "name": "python3"
  },
  "language_info": {
   "codemirror_mode": {
    "name": "ipython",
    "version": 3
   },
   "file_extension": ".py",
   "mimetype": "text/x-python",
   "name": "python",
   "nbconvert_exporter": "python",
   "pygments_lexer": "ipython3",
   "version": "3.11.4"
  }
 },
 "nbformat": 4,
 "nbformat_minor": 5
}
