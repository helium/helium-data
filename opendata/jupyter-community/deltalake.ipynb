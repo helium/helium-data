{
 "cells": [
  {
   "cell_type": "code",
   "execution_count": 9,
   "id": "bfa819ce-d2ae-4e00-b685-7d1275a4bd81",
   "metadata": {},
   "outputs": [
    {
     "name": "stdout",
     "output_type": "stream",
     "text": [
      "# conda environments:\n",
      "#\n",
      "base                     /opt/conda\n",
      "\n",
      "\n",
      "Note: you may need to restart the kernel to use updated packages.\n"
     ]
    }
   ],
   "source": [
    "conda env list"
   ]
  },
  {
   "cell_type": "markdown",
   "id": "5a20a8ed-c026-4bb1-9add-684dc7ebe519",
   "metadata": {},
   "source": [
    "Spark by Examples\n",
    "https://sparkbyexamples.com/"
   ]
  },
  {
   "cell_type": "markdown",
   "id": "ca8a3135-d382-4a11-9d6d-1b4f9ce59f44",
   "metadata": {},
   "source": [
    "Sync S3 files to local system\n",
    "aws s3 sync s3://foundation-data-lake-requester-pays/bronze/packet_router_packet_report_v1/ . --exclude \"*date=1970-01-01/*\""
   ]
  },
  {
   "cell_type": "markdown",
   "id": "fccdc606-70cc-495c-b42c-e5b0fe4a3af0",
   "metadata": {},
   "source": [
    "Delta Lake\n",
    "https://github.com/delta-io/delta/releases/tag/v3.0.0rc1"
   ]
  },
  {
   "cell_type": "code",
   "execution_count": 21,
   "id": "77ba7a17-eede-4c5a-8e64-d1832c60da1e",
   "metadata": {},
   "outputs": [
    {
     "name": "stdout",
     "output_type": "stream",
     "text": [
      "b'openjdk version \"17.0.7\" 2023-04-18\\nOpenJDK Runtime Environment (build 17.0.7+7-Ubuntu-0ubuntu122.04.2)\\nOpenJDK 64-Bit Server VM (build 17.0.7+7-Ubuntu-0ubuntu122.04.2, mixed mode, sharing)\\n'\n"
     ]
    }
   ],
   "source": [
    "import subprocess\n",
    "version = subprocess.check_output(['java', '-version'], stderr=subprocess.STDOUT)\n",
    "print(version)"
   ]
  },
  {
   "cell_type": "markdown",
   "id": "a8a1491a-b2dc-4b88-87ea-18a2e6460e5c",
   "metadata": {},
   "source": [
    "Getting Started with Delta Lake Spark in AWS\n",
    "https://towardsdatascience.com/getting-started-with-delta-lake-spark-in-aws-the-easy-way-9215f2970c58"
   ]
  },
  {
   "cell_type": "markdown",
   "id": "117ca6ad-65b0-4df3-937e-879348017160",
   "metadata": {},
   "source": [
    "Sync files to local system\n",
    "aws s3 sync s3://foundation-data-lake-requester-pays/bronze/packet_router_packet_report_v1/ . --exclude \"*date=1970-01-01/*\""
   ]
  },
  {
   "cell_type": "code",
   "execution_count": null,
   "id": "3a04cda8-9086-42c8-ab07-9deedae6e6cc",
   "metadata": {},
   "outputs": [],
   "source": [
    "From a Console\n",
    "pip install delta-spark"
   ]
  },
  {
   "cell_type": "code",
   "execution_count": 2,
   "id": "4015c9a6-a064-470a-89dd-c2fe99bf53d1",
   "metadata": {},
   "outputs": [
    {
     "name": "stdout",
     "output_type": "stream",
     "text": [
      "3.4.0\n"
     ]
    }
   ],
   "source": [
    "import pyspark\n",
    "from pyspark.sql import SparkSession\n",
    "from delta import *\n",
    "\n",
    "spark_jars_packages = \"io.delta:delta-core_2.12:3.0.0rc1\"\n",
    "builder = SparkSession.builder.master(\"local[*]\") \\\n",
    "    .appName(\"PySparkLocal\") \\\n",
    "    .config(\"spark.sql.extensions\", \"io.delta.sql.DeltaSparkSessionExtension\") \\\n",
    "    .config(\"spark.sql.catalog.spark_catalog\", \"org.apache.spark.sql.delta.catalog.DeltaCatalog\")\n",
    "#spark = builder.getOrCreate()\n",
    "spark = configure_spark_with_delta_pip(builder).getOrCreate()\n",
    "print(spark.version)"
   ]
  },
  {
   "cell_type": "code",
   "execution_count": 3,
   "id": "965934da-f003-4b96-b66b-1459d539eb13",
   "metadata": {},
   "outputs": [],
   "source": [
    "df = spark.read.format(\"delta\").load(\"/home/jovyan/work/s3\")"
   ]
  },
  {
   "cell_type": "code",
   "execution_count": 4,
   "id": "1127510b-83ca-4975-9e17-82b04f21b8a6",
   "metadata": {},
   "outputs": [
    {
     "name": "stdout",
     "output_type": "stream",
     "text": [
      "+------------+---+------+----+---------+-----+---------+-------+--------------------+--------------------+------------+-----+----+------------------+----------+--------------------+\n",
      "|gateway_tmst|oui|net_id|rssi|frequency|  snr| datarate| region|             gateway|        payload_hash|payload_size| free|type|received_timestamp|      date|                file|\n",
      "+------------+---+------+----+---------+-----+---------+-------+--------------------+--------------------+------------+-----+----+------------------+----------+--------------------+\n",
      "|  3882617758|  1|    36|-108|923400000|-11.5|SF10BW125|AS923_1|[00 79 B6 20 8D E...|[EB 11 B3 60 51 3...|          23|false|    |                 0|1970-01-01|s3://foundation-p...|\n",
      "|  2880966735|  1|    36|-130|865402500|-18.5|         |  IN865|[00 20 52 FC 6B F...|[9E F4 28 1A 44 3...|          23|false|    |                 0|1970-01-01|s3://foundation-p...|\n",
      "|   634893225|  1|    36|-114|865985000|-15.5|         |  IN865|[00 59 69 3F 98 C...|[22 D8 AA 93 2C 4...|          23|false|    |                 0|1970-01-01|s3://foundation-p...|\n",
      "|  2756784969|  1|    36|-121|865402500|-12.0|         |  IN865|[00 D7 8F 6F 01 2...|[9E F4 28 1A 44 3...|          23|false|    |                 0|1970-01-01|s3://foundation-p...|\n",
      "|  1654001071|  1|    36|-118|865062500|-10.0|         |  IN865|[00 01 25 35 C9 7...|[46 BE DD A2 D9 3...|          23|false|    |                 0|1970-01-01|s3://foundation-p...|\n",
      "|    55561702|  1|    36|-112|865062500|-12.8|         |  IN865|[00 0A 73 4D 4F D...|[DF B8 BC E9 3A 3...|          23|false|    |                 0|1970-01-01|s3://foundation-p...|\n",
      "|  3285080300|  1|    36|-106|865402500| -6.0|         |  IN865|[00 E7 36 B0 62 B...|[56 49 6E D7 08 A...|          23|false|    |                 0|1970-01-01|s3://foundation-p...|\n",
      "|  2561805048|  1|    36|-100|865985000| -5.5|         |  IN865|[00 B2 92 18 2B E...|[56 81 9B 27 5A 0...|          23|false|    |                 0|1970-01-01|s3://foundation-p...|\n",
      "|  3868388640|  1|    36|-131|865062500|-12.2|         |  IN865|[00 01 18 D4 E3 1...|[EA 15 82 D4 6A A...|          62|false|    |                 0|1970-01-01|s3://foundation-p...|\n",
      "|  4217605758|  1|    36|-106|865985000|-16.0|         |  IN865|[00 7A 68 06 D0 2...|[F1 B7 4B AD F2 8...|          23|false|    |                 0|1970-01-01|s3://foundation-p...|\n",
      "|  2560864919|  1|    36|-128|865985000|-13.2|         |  IN865|[00 8F 03 7E AD 1...|[56 81 9B 27 5A 0...|          23|false|    |                 0|1970-01-01|s3://foundation-p...|\n",
      "|  2342508444|  1|    36|-128|868300000|-12.8|SF10BW125|  EU868|[00 62 65 44 D5 6...|[57 9A 95 A4 B2 5...|          23|false|    |                 0|1970-01-01|s3://foundation-p...|\n",
      "|  3881623725|  1|    36| -91|923200000|  4.5|SF10BW125|AS923_1|[00 79 B6 20 8D E...|[A3 A3 7F CA E6 0...|          23|false|    |                 0|1970-01-01|s3://foundation-p...|\n",
      "|  1278610493|  1|    36|-124|865062500|-15.2|         |  IN865|[00 90 A2 C1 C2 0...|[DF 4E 84 AD E5 6...|          23|false|    |                 0|1970-01-01|s3://foundation-p...|\n",
      "|  3218337244|  1|    36|-111|924200000|  3.5|         |AS923_1|[00 68 E3 1C B0 4...|[77 E5 A4 A9 1C E...|          24|false|    |                 0|1970-01-01|s3://foundation-p...|\n",
      "|  1105118045|  1|    36| -78|924200000|  6.8|         |AS923_1|[00 46 E1 E5 62 4...|[77 E5 A4 A9 1C E...|          24|false|    |                 0|1970-01-01|s3://foundation-p...|\n",
      "|  2560486926|  1|    36|-127|865062500|-11.8|         |  IN865|[00 8F 03 7E AD 1...|[DF 4E 84 AD E5 6...|          23|false|    |                 0|1970-01-01|s3://foundation-p...|\n",
      "|  4146609182|  1|    36|-106|865062500| -3.0|         |  IN865|[00 89 9D 23 2F 5...|[DF 4E 84 AD E5 6...|          23|false|    |                 0|1970-01-01|s3://foundation-p...|\n",
      "|  3218198209|  1|    36|-129|923600000| -9.8|         |AS923_1|[00 68 E3 1C B0 4...|[C8 56 1C 94 08 4...|          26|false|    |                 0|1970-01-01|s3://foundation-p...|\n",
      "|  1104979009|  1|    36|-108|923600000|  3.8|         |AS923_1|[00 46 E1 E5 62 4...|[C8 56 1C 94 08 4...|          26|false|    |                 0|1970-01-01|s3://foundation-p...|\n",
      "+------------+---+------+----+---------+-----+---------+-------+--------------------+--------------------+------------+-----+----+------------------+----------+--------------------+\n",
      "only showing top 20 rows\n",
      "\n"
     ]
    }
   ],
   "source": [
    "df.show()"
   ]
  },
  {
   "cell_type": "code",
   "execution_count": null,
   "id": "a64c02ef-e45c-427b-8356-07100cc6ec4e",
   "metadata": {},
   "outputs": [],
   "source": []
  }
 ],
 "metadata": {
  "kernelspec": {
   "display_name": "Python 3 (ipykernel)",
   "language": "python",
   "name": "python3"
  },
  "language_info": {
   "codemirror_mode": {
    "name": "ipython",
    "version": 3
   },
   "file_extension": ".py",
   "mimetype": "text/x-python",
   "name": "python",
   "nbconvert_exporter": "python",
   "pygments_lexer": "ipython3",
   "version": "3.11.4"
  }
 },
 "nbformat": 4,
 "nbformat_minor": 5
}
