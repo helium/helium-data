{
 "cells": [
  {
   "cell_type": "markdown",
   "id": "1086ae80-c34f-4877-ab6f-05a26d3b029f",
   "metadata": {},
   "source": [
    "# Helium and Delta Lake\n",
    "\n",
    "Helium will now publish all Oracle S3 data files in the Delta Lake format.  Delta Lake and Spark are modern standards for accessing and querying massive data tables.  Delta Lake is easy to use after you've installed the right tools.\n",
    "With Spark, Jupyter and Delta Lake you can efficiently query Helium data using standard SQL commands.\n",
    "    \n",
    "We hope the community enjoys these new data tools and look forward to future community contributions.\n",
    "\n",
    "The following Jupyter notebook shows how to access Helium's S3 files and SQL query the S3 files using Spark DataFrames."
   ]
  },
  {
   "cell_type": "markdown",
   "id": "d1762211-4d3e-4dd5-867e-8c2606f14f8d",
   "metadata": {},
   "source": [
    "## References\n",
    "\n",
    "Delta Lake\n",
    "https://delta.io/\n",
    "\n",
    "Getting Started with Delta Lake Spark in AWS\n",
    "\n",
    "https://towardsdatascience.com/getting-started-with-delta-lake-spark-in-aws-the-easy-way-9215f2970c58\n",
    "\n",
    "Spark by Examples\n",
    "\n",
    "https://sparkbyexamples.com/"
   ]
  },
  {
   "cell_type": "markdown",
   "id": "5f4e4458-8b45-4d01-9f88-860d25d9feab",
   "metadata": {},
   "source": [
    "## Jupyter Setup Instructions\n",
    "From a Console install delta-spark and create the AWS credentials file\n",
    "\n",
    "```\n",
    "pip install delta-spark\n",
    "mkdir ~/.aws\n",
    "touch ~/.aws/credentials\n",
    "vi ~/.aws/credentials\n",
    "```"
   ]
  },
  {
   "cell_type": "raw",
   "id": "d5aee94d-d926-4ab7-b8b9-17b2fe839a4b",
   "metadata": {},
   "source": [
    "import subprocess\n",
    "version = subprocess.check_output(['java', '-version'], stderr=subprocess.STDOUT)\n",
    "print(version)"
   ]
  },
  {
   "cell_type": "markdown",
   "id": "45d851bc-14cb-4740-8474-c9d8f65ead52",
   "metadata": {},
   "source": [
    "## Start Spark Session"
   ]
  },
  {
   "cell_type": "code",
   "execution_count": 4,
   "id": "d102fe73-2d4c-43cf-b5aa-4d8e174b5c16",
   "metadata": {},
   "outputs": [
    {
     "name": "stdout",
     "output_type": "stream",
     "text": [
      "3.4.0\n"
     ]
    }
   ],
   "source": [
    "import pyspark\n",
    "from pyspark.sql import SparkSession\n",
    "from delta import *\n",
    "\n",
    "builder = SparkSession.builder.master(\"local[*]\") \\\n",
    "    .appName(\"PySparkLocal\") \\\n",
    "    .config(\"spark.sql.extensions\", \"io.delta.sql.DeltaSparkSessionExtension\") \\\n",
    "    .config(\"spark.sql.catalog.spark_catalog\", \"org.apache.spark.sql.delta.catalog.DeltaCatalog\") \\\n",
    "    .config(\"fs.s3a.aws.credentials.provider\", \"com.amazonaws.auth.DefaultAWSCredentialsProviderChain\")\n",
    "\n",
    "my_packages = [\"org.apache.hadoop:hadoop-aws:3.3.4\"]\n",
    "spark = configure_spark_with_delta_pip(builder, extra_packages=my_packages).getOrCreate()\n",
    "spark.conf.set(\"spark.hadoop.fs.s3a.impl\", \"org.apache.hadoop.fs.s3a.S3AFileSystem\")\n",
    "\n",
    "print(spark.version)"
   ]
  },
  {
   "cell_type": "markdown",
   "id": "ecee4b02-07d8-4c00-8e87-90e8931c53e4",
   "metadata": {},
   "source": [
    "## Read Table from Delta Lake"
   ]
  },
  {
   "cell_type": "code",
   "execution_count": 5,
   "id": "a64c02ef-e45c-427b-8356-07100cc6ec4e",
   "metadata": {},
   "outputs": [
    {
     "name": "stdout",
     "output_type": "stream",
     "text": [
      "+------------+---+------+----+---------+-----+--------+------+--------------------+--------------------+------------+-----+------+------------------+----------+--------------------+\n",
      "|gateway_tmst|oui|net_id|rssi|frequency|  snr|datarate|region|             gateway|        payload_hash|payload_size| free|  type|received_timestamp|      date|                file|\n",
      "+------------+---+------+----+---------+-----+--------+------+--------------------+--------------------+------------+-----+------+------------------+----------+--------------------+\n",
      "|   658952164|  1|    36|-101|865402500|  0.8|        | IN865|[00 E7 36 B0 62 B...|[AC 47 D5 30 D3 E...|          23|false|      |     1685577861837|2023-06-01|s3://foundation-p...|\n",
      "|  1606199439| 12|    36|-125|905300000|-12.8|SF9BW125|      |[00 E2 70 E6 BC 3...|[AB 37 01 00 F7 7...|          24|false|uplink|     1685578035208|2023-06-01|s3://foundation-p...|\n",
      "|  2993796500| 12|    36|-140|868500000|-22.0|        | EU868|[00 BC 08 55 20 C...|[82 AF 94 84 D1 7...|          23|false|      |     1685577762496|2023-06-01|s3://foundation-p...|\n",
      "|   126200036| 12|    36|-130|868500000|-22.2|        | EU868|[00 3E 7B 65 AC 3...|[82 AF 94 84 D1 7...|          23|false|      |     1685577762513|2023-06-01|s3://foundation-p...|\n",
      "|  2120651986| 12|    36|-135|868500000|-21.0|        | EU868|[00 DD 2F 2B 4E B...|[82 AF 94 84 D1 7...|          23|false|      |     1685577762514|2023-06-01|s3://foundation-p...|\n",
      "|  3843389367|  1|    36|-104|865402500| -4.8|        | IN865|[00 5A 30 CC 38 5...|[92 46 D6 9F E9 D...|          23|false|      |     1685577762538|2023-06-01|s3://foundation-p...|\n",
      "|   123459629| 12|    36|-132|868500000|-18.8|        | EU868|[00 5B 99 2B DF 1...|[82 AF 94 84 D1 7...|          23|false|      |     1685577762523|2023-06-01|s3://foundation-p...|\n",
      "|    57232604| 12|    36|-121|868500000| -5.5|        | EU868|[00 5A C9 28 B6 2...|[82 AF 94 84 D1 7...|          23|false|      |     1685577762538|2023-06-01|s3://foundation-p...|\n",
      "|  1513998945| 12|    36|-128|868500000|-18.2|        | EU868|[00 1D C5 06 30 B...|[82 AF 94 84 D1 7...|          23|false|      |     1685577762521|2023-06-01|s3://foundation-p...|\n",
      "|  1858028083| 12|    36|-120|868100000| -9.2|        | EU868|[00 52 DC 84 FF 7...|[34 0E 7D 64 3E D...|          29|false|uplink|     1685577762483|2023-06-01|s3://foundation-p...|\n",
      "|  2730008595| 12|    36|-115|868100000| -4.8|        | EU868|[00 0E E1 2C E3 4...|[34 0E 7D 64 3E D...|          29|false|uplink|     1685577762485|2023-06-01|s3://foundation-p...|\n",
      "|  1243168385| 12|    36|-137|868500000|-18.8|        | EU868|[00 46 E4 8B 30 7...|[82 AF 94 84 D1 7...|          23|false|      |     1685577762602|2023-06-01|s3://foundation-p...|\n",
      "|  1814318719| 12|    36|-123|868500000|-12.5|        | EU868|[00 17 89 7F F6 7...|[82 AF 94 84 D1 7...|          23|false|      |     1685577762596|2023-06-01|s3://foundation-p...|\n",
      "|   987022441| 12|    36|-136|868500000|-20.8|        | EU868|[00 5F F4 CA 76 7...|[82 AF 94 84 D1 7...|          23|false|      |     1685577762599|2023-06-01|s3://foundation-p...|\n",
      "|  2482984948| 12|    36|-130|868500000|-20.5|        | EU868|[00 7D 9C 55 23 4...|[82 AF 94 84 D1 7...|          23|false|      |     1685577762587|2023-06-01|s3://foundation-p...|\n",
      "|  1301182047| 12|    36|-134|868300000|-22.8|        | EU868|[00 AA 07 D9 0B 9...|[27 7A C0 87 05 5...|          29|false|uplink|     1685577762576|2023-06-01|s3://foundation-p...|\n",
      "|  1531301848|  1|    36|-115|865062500| -5.2|        | IN865|[00 89 9D 23 2F 5...|[46 47 95 2B AE 8...|          23|false|      |     1685577762693|2023-06-01|s3://foundation-p...|\n",
      "|  1563771104| 12|    36|-135|868300000|-21.0|        | EU868|[00 CB 37 35 F7 7...|[27 7A C0 87 05 5...|          29|false|uplink|     1685577762657|2023-06-01|s3://foundation-p...|\n",
      "|   629918028| 12|    36|-121|868300000| -7.0|        | EU868|[00 B9 FC 7B 53 D...|[27 7A C0 87 05 5...|          29|false|uplink|     1685577762620|2023-06-01|s3://foundation-p...|\n",
      "|  1277301924| 12|    36|-127|868300000|-10.2|        | EU868|[00 7B 19 CE 40 F...|[27 7A C0 87 05 5...|          29|false|uplink|     1685577762669|2023-06-01|s3://foundation-p...|\n",
      "+------------+---+------+----+---------+-----+--------+------+--------------------+--------------------+------------+-----+------+------------------+----------+--------------------+\n",
      "only showing top 20 rows\n",
      "\n"
     ]
    }
   ],
   "source": [
    "delta_table_uri=\"s3a://foundation-data-lake-requester-pays/bronze/packet_router_packet_report_v1/\"\n",
    "df = spark.read.format(\"delta\").load(\"s3a://foundation-data-lake-requester-pays/bronze/packet_router_packet_report_v1/\").createOrReplaceTempView(\"packets\")\n",
    "sqlDF = spark.sql(\"SELECT * FROM packets WHERE date = '2023-6-1'\")\n",
    "sqlDF.show()\n",
    "#df_by_date = df.filter(date === lit(\"2023-06-01\"))\n",
    "#df_by_date.show()"
   ]
  },
  {
   "cell_type": "markdown",
   "id": "b0ba5025-0d2f-48f5-abf0-100bbee06200",
   "metadata": {},
   "source": [
    "## Query Table using SQL"
   ]
  },
  {
   "cell_type": "code",
   "execution_count": 40,
   "id": "a03bc859-fe90-492a-ac04-54809116dc44",
   "metadata": {},
   "outputs": [
    {
     "name": "stdout",
     "output_type": "stream",
     "text": [
      "+------------+\n",
      "|payload_size|\n",
      "+------------+\n",
      "|23          |\n",
      "|24          |\n",
      "|23          |\n",
      "|23          |\n",
      "|23          |\n",
      "+------------+\n",
      "\n"
     ]
    }
   ],
   "source": [
    "spark.sql(\"\"\"\\\n",
    "SELECT payload_size\n",
    "FROM packets\n",
    "where \n",
    "      date = '2023-06-01'\n",
    "limit 5\n",
    "\"\"\").show(truncate=False)"
   ]
  },
  {
   "cell_type": "code",
   "execution_count": 37,
   "id": "87f17ba8-65c6-40a7-a2da-bc9b57511a75",
   "metadata": {},
   "outputs": [
    {
     "name": "stdout",
     "output_type": "stream",
     "text": [
      "root\n",
      " |-- gateway_tmst: decimal(23,0) (nullable = true)\n",
      " |-- oui: decimal(23,0) (nullable = true)\n",
      " |-- net_id: long (nullable = true)\n",
      " |-- rssi: integer (nullable = true)\n",
      " |-- frequency: long (nullable = true)\n",
      " |-- snr: float (nullable = true)\n",
      " |-- datarate: string (nullable = true)\n",
      " |-- region: string (nullable = true)\n",
      " |-- gateway: binary (nullable = true)\n",
      " |-- payload_hash: binary (nullable = true)\n",
      " |-- payload_size: long (nullable = true)\n",
      " |-- free: boolean (nullable = true)\n",
      " |-- type: string (nullable = true)\n",
      " |-- received_timestamp: decimal(23,0) (nullable = true)\n",
      " |-- date: date (nullable = false)\n",
      " |-- file: string (nullable = true)\n",
      "\n"
     ]
    }
   ],
   "source": [
    "df.printSchema()"
   ]
  },
  {
   "cell_type": "markdown",
   "id": "1a37506c-c152-4c07-88a1-7123ee702d32",
   "metadata": {},
   "source": [
    "## Working with Local Files\n",
    "\n",
    "Working with S3 can incur egress costs.\n",
    "If you wish to work with a local filesytem (rather than S3).  Install the AWS Cli.\n",
    "Next Sync the Helium S3 files to the local file system under ../work/s3\n",
    "\n",
    "```\n",
    "aws s3 sync s3://foundation-data-lake-requester-pays/bronze/packet_router_packet_report_v1/ . --exclude \"date=1970-01-01/\"\n",
    "```"
   ]
  },
  {
   "cell_type": "code",
   "execution_count": 7,
   "id": "965934da-f003-4b96-b66b-1459d539eb13",
   "metadata": {},
   "outputs": [
    {
     "name": "stdout",
     "output_type": "stream",
     "text": [
      "+------------+---+------+----+---------+-----+---------+-------+--------------------+--------------------+------------+-----+----+------------------+----------+--------------------+\n",
      "|gateway_tmst|oui|net_id|rssi|frequency|  snr| datarate| region|             gateway|        payload_hash|payload_size| free|type|received_timestamp|      date|                file|\n",
      "+------------+---+------+----+---------+-----+---------+-------+--------------------+--------------------+------------+-----+----+------------------+----------+--------------------+\n",
      "|  3882617758|  1|    36|-108|923400000|-11.5|SF10BW125|AS923_1|[00 79 B6 20 8D E...|[EB 11 B3 60 51 3...|          23|false|    |                 0|1970-01-01|s3://foundation-p...|\n",
      "|  2880966735|  1|    36|-130|865402500|-18.5|         |  IN865|[00 20 52 FC 6B F...|[9E F4 28 1A 44 3...|          23|false|    |                 0|1970-01-01|s3://foundation-p...|\n",
      "|   634893225|  1|    36|-114|865985000|-15.5|         |  IN865|[00 59 69 3F 98 C...|[22 D8 AA 93 2C 4...|          23|false|    |                 0|1970-01-01|s3://foundation-p...|\n",
      "|  2756784969|  1|    36|-121|865402500|-12.0|         |  IN865|[00 D7 8F 6F 01 2...|[9E F4 28 1A 44 3...|          23|false|    |                 0|1970-01-01|s3://foundation-p...|\n",
      "|  1654001071|  1|    36|-118|865062500|-10.0|         |  IN865|[00 01 25 35 C9 7...|[46 BE DD A2 D9 3...|          23|false|    |                 0|1970-01-01|s3://foundation-p...|\n",
      "|    55561702|  1|    36|-112|865062500|-12.8|         |  IN865|[00 0A 73 4D 4F D...|[DF B8 BC E9 3A 3...|          23|false|    |                 0|1970-01-01|s3://foundation-p...|\n",
      "|  3285080300|  1|    36|-106|865402500| -6.0|         |  IN865|[00 E7 36 B0 62 B...|[56 49 6E D7 08 A...|          23|false|    |                 0|1970-01-01|s3://foundation-p...|\n",
      "|  2561805048|  1|    36|-100|865985000| -5.5|         |  IN865|[00 B2 92 18 2B E...|[56 81 9B 27 5A 0...|          23|false|    |                 0|1970-01-01|s3://foundation-p...|\n",
      "|  3868388640|  1|    36|-131|865062500|-12.2|         |  IN865|[00 01 18 D4 E3 1...|[EA 15 82 D4 6A A...|          62|false|    |                 0|1970-01-01|s3://foundation-p...|\n",
      "|  4217605758|  1|    36|-106|865985000|-16.0|         |  IN865|[00 7A 68 06 D0 2...|[F1 B7 4B AD F2 8...|          23|false|    |                 0|1970-01-01|s3://foundation-p...|\n",
      "|  2560864919|  1|    36|-128|865985000|-13.2|         |  IN865|[00 8F 03 7E AD 1...|[56 81 9B 27 5A 0...|          23|false|    |                 0|1970-01-01|s3://foundation-p...|\n",
      "|  2342508444|  1|    36|-128|868300000|-12.8|SF10BW125|  EU868|[00 62 65 44 D5 6...|[57 9A 95 A4 B2 5...|          23|false|    |                 0|1970-01-01|s3://foundation-p...|\n",
      "|  3881623725|  1|    36| -91|923200000|  4.5|SF10BW125|AS923_1|[00 79 B6 20 8D E...|[A3 A3 7F CA E6 0...|          23|false|    |                 0|1970-01-01|s3://foundation-p...|\n",
      "|  1278610493|  1|    36|-124|865062500|-15.2|         |  IN865|[00 90 A2 C1 C2 0...|[DF 4E 84 AD E5 6...|          23|false|    |                 0|1970-01-01|s3://foundation-p...|\n",
      "|  3218337244|  1|    36|-111|924200000|  3.5|         |AS923_1|[00 68 E3 1C B0 4...|[77 E5 A4 A9 1C E...|          24|false|    |                 0|1970-01-01|s3://foundation-p...|\n",
      "|  1105118045|  1|    36| -78|924200000|  6.8|         |AS923_1|[00 46 E1 E5 62 4...|[77 E5 A4 A9 1C E...|          24|false|    |                 0|1970-01-01|s3://foundation-p...|\n",
      "|  2560486926|  1|    36|-127|865062500|-11.8|         |  IN865|[00 8F 03 7E AD 1...|[DF 4E 84 AD E5 6...|          23|false|    |                 0|1970-01-01|s3://foundation-p...|\n",
      "|  4146609182|  1|    36|-106|865062500| -3.0|         |  IN865|[00 89 9D 23 2F 5...|[DF 4E 84 AD E5 6...|          23|false|    |                 0|1970-01-01|s3://foundation-p...|\n",
      "|  3218198209|  1|    36|-129|923600000| -9.8|         |AS923_1|[00 68 E3 1C B0 4...|[C8 56 1C 94 08 4...|          26|false|    |                 0|1970-01-01|s3://foundation-p...|\n",
      "|  1104979009|  1|    36|-108|923600000|  3.8|         |AS923_1|[00 46 E1 E5 62 4...|[C8 56 1C 94 08 4...|          26|false|    |                 0|1970-01-01|s3://foundation-p...|\n",
      "+------------+---+------+----+---------+-----+---------+-------+--------------------+--------------------+------------+-----+----+------------------+----------+--------------------+\n",
      "only showing top 20 rows\n",
      "\n"
     ]
    }
   ],
   "source": [
    "df_local = spark.read.format(\"delta\").load(\"/home/jovyan/work/s3\")\n",
    "df_local.show()"
   ]
  },
  {
   "cell_type": "code",
   "execution_count": null,
   "id": "ec3583a0-e3b7-49b7-8ee7-20d2666ff931",
   "metadata": {},
   "outputs": [],
   "source": []
  }
 ],
 "metadata": {
  "kernelspec": {
   "display_name": "Python 3 (ipykernel)",
   "language": "python",
   "name": "python3"
  },
  "language_info": {
   "codemirror_mode": {
    "name": "ipython",
    "version": 3
   },
   "file_extension": ".py",
   "mimetype": "text/x-python",
   "name": "python",
   "nbconvert_exporter": "python",
   "pygments_lexer": "ipython3",
   "version": "3.11.4"
  }
 },
 "nbformat": 4,
 "nbformat_minor": 5
}
