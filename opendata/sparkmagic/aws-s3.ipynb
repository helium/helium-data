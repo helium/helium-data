{
 "cells": [
  {
   "cell_type": "markdown",
   "id": "60ea3d86-042f-42c8-8534-fb32ae253ca1",
   "metadata": {},
   "source": [
    "Set .aws/credentials to AWS credentials"
   ]
  },
  {
   "cell_type": "code",
   "execution_count": null,
   "id": "f4f53553-84b1-449a-b3cd-26125554bcdf",
   "metadata": {},
   "outputs": [],
   "source": [
    "import boto3\n",
    "\n",
    "session = boto3.Session(profile_name='default')\n",
    "dev_s3_client = session.client('s3')"
   ]
  },
  {
   "cell_type": "code",
   "execution_count": null,
   "id": "d9bf5217-81e6-4136-b490-30d62727aae8",
   "metadata": {},
   "outputs": [],
   "source": [
    "import boto3\n",
    "import pandas as pd\n",
    "import io\n",
    "\n",
    "s3_client = boto3.client('s3')\n",
    "bucket = 'foundation-data-lake-requester-pays'\n",
    "file_name = 'bronze/packet_router_packet_report_v1/date=2023-05-31/part-00000-abd5940c-be1b-4c4a-83ff-9a0d9e851ab3-c000.snappy.parquet'\n",
    "s3_clientobj = s3_client.get_object(Bucket=bucket, Key=file_name)"
   ]
  },
  {
   "cell_type": "code",
   "execution_count": null,
   "id": "50e1710b-0e4b-4e88-90f0-b31ce4435920",
   "metadata": {},
   "outputs": [],
   "source": [
    "size = s3_clientobj['ContentLength']\n",
    "size"
   ]
  }
 ],
 "metadata": {
  "kernelspec": {
   "display_name": "Python 3 (ipykernel)",
   "language": "python",
   "name": "python3"
  },
  "language_info": {
   "codemirror_mode": {
    "name": "ipython",
    "version": 3
   },
   "file_extension": ".py",
   "mimetype": "text/x-python",
   "name": "python",
   "nbconvert_exporter": "python",
   "pygments_lexer": "ipython3",
   "version": "3.11.4"
  }
 },
 "nbformat": 4,
 "nbformat_minor": 5
}
