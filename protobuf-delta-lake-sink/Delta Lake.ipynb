{
 "cells": [
  {
   "cell_type": "code",
   "execution_count": 20,
   "id": "4380c883",
   "metadata": {},
   "outputs": [],
   "source": [
    "from deltalake import DeltaTable\n",
    "\n",
    "dt = DeltaTable(\"s3://delta/bronze/iot_poc_v2\", None, {\n",
    "    \"aws_default_region\": \"us-east-2\",\n",
    "    \"aws_secret_access_key\": \"minioadmin\",\n",
    "    \"allow_http\": \"true\",\n",
    "    \"aws_access_key_id\": \"minioadmin\",\n",
    "    \"aws_endpoint\": \"http://localhost:9000\"\n",
    "})\n",
    "\n"
   ]
  },
  {
   "cell_type": "code",
   "execution_count": 27,
   "id": "f31ac7b4",
   "metadata": {},
   "outputs": [
    {
     "data": {
      "text/plain": [
       "['_DeltaTable__stringify_partition_values',\n",
       " '__class__',\n",
       " '__dataclass_fields__',\n",
       " '__dataclass_params__',\n",
       " '__delattr__',\n",
       " '__dict__',\n",
       " '__dir__',\n",
       " '__doc__',\n",
       " '__eq__',\n",
       " '__format__',\n",
       " '__ge__',\n",
       " '__getattribute__',\n",
       " '__gt__',\n",
       " '__hash__',\n",
       " '__init__',\n",
       " '__init_subclass__',\n",
       " '__le__',\n",
       " '__lt__',\n",
       " '__match_args__',\n",
       " '__module__',\n",
       " '__ne__',\n",
       " '__new__',\n",
       " '__reduce__',\n",
       " '__reduce_ex__',\n",
       " '__repr__',\n",
       " '__setattr__',\n",
       " '__sizeof__',\n",
       " '__str__',\n",
       " '__subclasshook__',\n",
       " '__weakref__',\n",
       " '_metadata',\n",
       " '_storage_options',\n",
       " '_table',\n",
       " 'create_checkpoint',\n",
       " 'file_uris',\n",
       " 'files',\n",
       " 'files_by_partitions',\n",
       " 'from_data_catalog',\n",
       " 'get_add_actions',\n",
       " 'history',\n",
       " 'load_version',\n",
       " 'load_with_datetime',\n",
       " 'metadata',\n",
       " 'optimize',\n",
       " 'protocol',\n",
       " 'pyarrow_schema',\n",
       " 'schema',\n",
       " 'table_uri',\n",
       " 'to_pandas',\n",
       " 'to_pyarrow_dataset',\n",
       " 'to_pyarrow_table',\n",
       " 'update_incremental',\n",
       " 'vacuum',\n",
       " 'version']"
      ]
     },
     "execution_count": 27,
     "metadata": {},
     "output_type": "execute_result"
    }
   ],
   "source": [
    "dir(dt)"
   ]
  },
  {
   "cell_type": "code",
   "execution_count": 29,
   "id": "ef59b3bb",
   "metadata": {},
   "outputs": [
    {
     "data": {
      "text/plain": [
       "array([[b' \\xff?\\x8f\\x1c\\x191\\x9b\\xf6\\xd26n\\xe2,\\xd3\\xa0\\xdd\\x92\\xcb\\xd9\\x7f\\x83:\\x19\\xda\\xd3\\x97\\x1a\\xa4\\xb2\\x9a\\xf4',\n",
       "        {'received_timestamp': Decimal('1674765710996'), 'location': '631243964719518719', 'hex_scale': 1637, 'report': {'pub_key': b'\\x00\\x8bT\\xb7l(\\xa22\\x1a\\x98\\xb3\\xf1:~\\x9a\\xaa\\xc4\\xff\\xe5\\x00\\x9d\\x8eQ\\x01\\x87\\x87\\x9a\\x8b\\xabJ\\xbfl]', 'local_entropy': b'\\xfb0z\\x00', 'remote_entropy': b'\\xb9T\\x12\\xa7(C{_ls\\x17\\x81\\xd4\\n\\x10\\xeb\\x1a\\x9a\\xa9\\xf73\\xb5y\\x8d\"\\x93\\xbb\\xc6J\\xc2\\xc8\\x94', 'data': b'+\\xc3ag\\xaf\\xae\\x87\\xd7\\xa1\\x03', 'frequency': Decimal('903900000'), 'channel': 0, 'datarate': 'helium.data_rate.SF7BW125', 'tx_power': 27, 'timestamp': Decimal('1674765710632451368'), 'signature': b\"0E\\x02!\\x00\\xd5\\xc8\\xd0\\x1d\\xcc?\\xbb\\x00}+\\xda\\x9a\\xc8\\xa1\\xe8J\\xbc\\x82u\\xa8\\xb9\\xbb\\xadU\\x1c\\\\\\xb8\\xd9\\xe1\\xc8!\\xe4\\x02 g\\xa4av}\\xbfS\\xc4\\xfc\\x95j,\\xbb\\x90\\x8e\\x1c\\xfb'\\xe0\\x1b2\\x19\\x9bzoB\\xcf\\ri\\xe0\\xba\\x8a\", 'tmst': 0}, 'reward_unit': 0, 'gain': 0, 'elevation': 0},\n",
       "        array([{'received_timestamp': Decimal('1674765712656'), 'status': 'helium.poc_lora.verification_status.invalid', 'report': {'pub_key': b'\\x00\\xd4\\x8f\\x9bh\\xa8\\xd9\\xd6dh\\x03\\x12\\xfc\\n\\x1d\\xb5b\\x8f\\xf6\\xa5=y/\\x11sC|\\xc1\\xab\\x18:\\x17z', 'data': b'\\xc1\\xbb{b\\x00\\x07\\x14f', 'timestamp': Decimal('1674765712443377621'), 'tmst': 2546264718, 'signal': -210, 'snr': 98, 'frequency': Decimal('905299968'), 'datarate': 'helium.data_rate.SF7BW125', 'signature': b'0E\\x02!\\x00\\xa6 \\xaf:3T\\xd5s\\x9d\\xa2\\xe36\\xc7 H\"\\x1a\\xe2\\x94sX7J\\x0c\\x17\\xae\\xf6\\'(\\xb2\\xd6)\\x02 ;\\xe0\\x04\\x02\\xa2\\x8bu\\xc8\\x02;\\x85\\x06\\x97\\xc9\\xc9_\\xb4\\xd2\\xb7\\xe49\\x966\\xe6L\\xcd\\xd7\\x10\\xdb\\x1d\\xcf='}, 'location': '', 'hex_scale': 0, 'reward_unit': 0, 'invalid_reason': 'helium.poc_lora.invalid_reason.self_witness', 'participant_side': 'helium.poc_lora.invalid_participant_side.witness', 'gain': 0, 'elevation': 0}],\n",
       "              dtype=object)                                                                                                                                                                                                                                                                                                                                                                                                                                                                                                                                                                                                                                                                                                                                                                                                                                                                                      ,\n",
       "        array([{'received_timestamp': Decimal('1674765711909'), 'status': '', 'report': {'pub_key': b'\\x00_\\x0cn\\x1b\\xa2\\xaf\\xbd\\xba\\x81q\\xa4{\\xae\\x13w\\x8fm\\xd1X\\xb91\\xce\\x1b\\xa4\\xf1:m\\xb6\\xf4\\x81\\xe5\\xd1', 'data': b'$\\xd1\\x88\\xac\\xe9>', 'timestamp': Decimal('1674765711553107088'), 'tmst': 1612111030, 'signal': -1020, 'snr': -25, 'frequency': Decimal('903900032'), 'datarate': 'helium.data_rate.SF7BW125', 'signature': b'0F\\x02!\\x00\\xba\\x1e\\xf9\\xdb&\\x01U\\x97\\xb5\\xfbw\\xd2\\xd9u\\x92\\xdc;\\\\\\t\\xfe\\xf0\\xca\\xab+\\xa1\\xe1-\\x1d6\\x05\\xef\\x9c\\x02!\\x00\\x8a{m\\xebq!\\x08CP\\xcb[\\x9f\\xcf\\xa0i\\xf0>\\x0c(\\xbeV\\xba\\xbb\\xcc\\x92\\xdaU\\xdc\\x18\\xd9\\xc7R'}, 'location': '631236467478898175', 'hex_scale': 10000, 'reward_unit': 19999, 'invalid_reason': '', 'participant_side': '', 'gain': 0, 'elevation': 0}],\n",
       "              dtype=object)                                                                                                                                                                                                                                                                                                                                                                                                                                                                                                                                                                                                                                                                                                                                                                                       ,\n",
       "        datetime.date(2023, 1, 26),\n",
       "        's3://iot-ingest/iot_poc.1674766530034.gz'],\n",
       "       [b'\\x1c;\\x82\\xcc\\xb8\\x87\\xf5\\xbf\\x01F\\x13\\xe6\\xbbi\\x95\\xcf}\\xef\\x83\\x18)\\xdf\\xf6Rf\\x82\\x87\\xd3<\\xfeV\\xb4',\n",
       "        {'received_timestamp': Decimal('1674765711613'), 'location': '631182130191677439', 'hex_scale': 2155, 'report': {'pub_key': b'\\x00\\xd4\\x8f\\x9bh\\xa8\\xd9\\xd6dh\\x03\\x12\\xfc\\n\\x1d\\xb5b\\x8f\\xf6\\xa5=y/\\x11sC|\\xc1\\xab\\x18:\\x17z', 'local_entropy': b'v\\xf95\\x05', 'remote_entropy': b'\\xb9T\\x12\\xa7(C{_ls\\x17\\x81\\xd4\\n\\x10\\xeb\\x1a\\x9a\\xa9\\xf73\\xb5y\\x8d\"\\x93\\xbb\\xc6J\\xc2\\xc8\\x94', 'data': b'\\xc1\\xbb{b\\x00\\x07\\x14f', 'frequency': Decimal('905300000'), 'channel': 0, 'datarate': 'helium.data_rate.SF7BW125', 'tx_power': 27, 'timestamp': Decimal('1674765711390718017'), 'signature': b\"0D\\x02 W'6\\xe50TSe\\xcc\\x8b\\x99\\xd8\\xfa\\xce\\xce\\x1b,\\xb8]\\xfb\\xe0\\x11\\xb5\\xad\\x92Y\\xbe\\xa4\\x98,\\xa4?\\x02 1\\x80>9\\xbe^`]\\x8d)\\xbe,s\\x9aD\\x1e\\xd1kr\\xce{^\\xc5\\xc7\\x12\\x16\\x1a#\\xfa\\x9d\\x96\\xf8\", 'tmst': 0}, 'reward_unit': 20000, 'gain': 0, 'elevation': 0},\n",
       "        array([{'received_timestamp': Decimal('1674765712648'), 'status': '', 'report': {'pub_key': b'\\x00H\\xf3\\xa4T\\x02\\\\s7\\xda\\x91\\x18\\x8b\\xbc\\x0b\"\\x9e\\xeb]:\\xfd\\x88\\xcb\\xcd\\xd3\\x9dl\\x8dD(\\xd4\\xbd\\x9b', 'data': b'\\xc1\\xbb{b\\x00\\x07\\x14f', 'timestamp': Decimal('1674765712442231223'), 'tmst': 1719046016, 'signal': -1020, 'snr': 18, 'frequency': Decimal('905299968'), 'datarate': 'helium.data_rate.SF7BW125', 'signature': b\"0E\\x02!\\x00\\xd6b\\xc36P\\x8e\\xa1\\x91]I\\xb3\\xff6\\x1c\\xcb1#\\xb4\\xa06\\x9f\\x97vD\\x11\\xcd\\xffl\\x12\\x1c$\\xc6\\x02 ;V\\x81mH\\xf1\\x96\\xb7H2\\xa6\\x9c\\xfcL~\\xfbS\\x90\\x9a&\\xd5c\\xf4\\xe5uI\\xd9'.\\x856\\xe0\"}, 'location': '631182130211940863', 'hex_scale': 684, 'reward_unit': 20000, 'invalid_reason': '', 'participant_side': '', 'gain': 0, 'elevation': 0}],\n",
       "              dtype=object)                                                                                                                                                                                                                                                                                                                                                                                                                                                                                                                                                                                                                                                                                                                                                               ,\n",
       "        array([{'received_timestamp': Decimal('1674765711826'), 'status': '', 'report': {'pub_key': b'\\x00\\xf4B\\xacJ\\x1bG\\xd1#\\x0eh\\xa5\\xa0\\xe4\\xeb\\xd6R\\xeaO-\\xe7\\xf0\\xba\\x8e\\x9c\\x9e\\xd9\\xc7\\xb8\\xbd\\xa1\\x1e\\xef', 'data': b'$\\xd1\\x88\\xac\\xe9>', 'timestamp': Decimal('1674765711571343966'), 'tmst': 58317295, 'signal': -1100, 'snr': 30, 'frequency': Decimal('903900032'), 'datarate': 'helium.data_rate.SF7BW125', 'signature': b'0D\\x02 \\x08\\x80e\\xa6s\\x90 \\n*cz.\\x12f\\x8c\\xa0\\xadB\\xc2\\xc3\\x88\\x9a\\xe4\\xf1\\xb1+\\x00\\x17\\x06c\\xe8\\x97\\x02 t\\xea[\\xfd\\x1b{\\x94\\x14N\\xda\\x05\\x81 \\x82\\xf3A/I\\x16\\xb3^\\xebe\\x8fW\\x14\\xe6Zz\\xabm0'}, 'location': '631236467662612991', 'hex_scale': 5000, 'reward_unit': 19999, 'invalid_reason': '', 'participant_side': '', 'gain': 0, 'elevation': 0}],\n",
       "              dtype=object)                                                                                                                                                                                                                                                                                                                                                                                                                                                                                                                                                                                                                                                                                                                                                                    ,\n",
       "        datetime.date(2023, 1, 26),\n",
       "        's3://iot-ingest/iot_poc.1674766530034.gz'],\n",
       "       [b'\\x8b\\xb6\\xd3\\xb3\\x0bvu\\xe2\\x7fTq\\xaam5K\\xbe\\xdf\\x00n\\xb4\\xa2R\\x16:\\xeb\\xfeQ9\\x88Iy]',\n",
       "        {'received_timestamp': Decimal('1674765709433'), 'location': '631244375787234303', 'hex_scale': 3846, 'report': {'pub_key': b'\\x00\\xf6\\xb2\\x9f\\x93\\x9d\\x95|\\xe1p\\xea\\xfc\\xd6\\x82!%\\x9f\\xcb\\x83\\xe9\\xb9\\x8d\\x80a\\xe2\\x9b\\xd2\\xef\\xcf\\xd8Z\\xd6\\x19', 'local_entropy': b'\\xbe\\xbc\\x8f\\xf6', 'remote_entropy': b'\\xb9T\\x12\\xa7(C{_ls\\x17\\x81\\xd4\\n\\x10\\xeb\\x1a\\x9a\\xa9\\xf73\\xb5y\\x8d\"\\x93\\xbb\\xc6J\\xc2\\xc8\\x94', 'data': b'\\xd6Z(Ogq\\x8f\\xd0', 'frequency': Decimal('905100000'), 'channel': 0, 'datarate': 'helium.data_rate.SF7BW125', 'tx_power': 29, 'timestamp': Decimal('1674765707378646005'), 'signature': b\"0D\\x02 \\x0f\\xf4@\\xb0'\\xeb\\xa7\\xc4\\x11(\\ns\\x90&c\\xc4\\xd3 \\xf5\\xfb8z\\x86\\xd4\\xb5\\xb8C'\\xe5\\xc2\\x17B\\x02 \\x02;\\x0e+\\xe8\\xba\\xaa\\x94\\x9de]\\x03\\x80n\\x0b\\x99\\x14\\x8b\\x8a\\xf2\\xd2\\xcc\\x1b\\xa4\\xfe\\xca\\xef\\x9b\\n\\rx\\xc1\", 'tmst': 0}, 'reward_unit': 15904, 'gain': 0, 'elevation': 0},\n",
       "        array([{'received_timestamp': Decimal('1674765709563'), 'status': 'helium.poc_lora.verification_status.invalid', 'report': {'pub_key': b'\\x00\\xd7\\xe1\\xa0\\x88K\\xc0z\\x04*\\x1bH\\xc6\\x82\\xad1GJm\\x9a\\x86\\x08D\\xbex\\xf1\\xbd\\xcdJ\\x86\\xd27\\x9a', 'data': b'\\xd6Z(Ogq\\x8f\\xd0', 'timestamp': Decimal('1674765707270618455'), 'tmst': 2196321383, 'signal': -280, 'snr': 95, 'frequency': Decimal('905099968'), 'datarate': 'helium.data_rate.SF7BW125', 'signature': b'0D\\x02 9\\n\\x00\\xba\\xfd\\x1c(1\\x8c:\\x9e\\x8c\\xa8\\xbb\\x9b\\xbe\\xa9\\xaf\\xcc\\xe5\\xcb\\x16f$\\xa8\\x9b\\x16\\t\\xce#\\x00^\\x02 A\\xa3\\xde\\xc8\\xfd.\\x0bT\\x88j\\xe6@\\xb3\\x10\\x1f\\xd9\\xd7\\xcc\\xe3\\xec\\xf7\\x83\\xc9T%\\xba\\x0f,\\xc6\\x82\\x08\\x0f'}, 'location': '', 'hex_scale': 0, 'reward_unit': 0, 'invalid_reason': 'helium.poc_lora.invalid_reason.bad_rssi', 'participant_side': 'helium.poc_lora.invalid_participant_side.witness', 'gain': 0, 'elevation': 0}],\n",
       "              dtype=object)                                                                                                                                                                                                                                                                                                                                                                                                                                                                                                                                                                                                                                                                                                                                                                                                                                                                                             ,\n",
       "        array([{'received_timestamp': Decimal('1674765711836'), 'status': '', 'report': {'pub_key': b'\\x00\\xdbRS\\x81\\x9f\\xe4\\x85U\\xc9\\x85E\\xf3]0_\\t#\\x19\\x12\\xf4\\x87R\\xec\\xab\\xd0%\\xff\\xa9B\\xa6\\xf7\\xc6', 'data': b'$\\xd1\\x88\\xac\\xe9>', 'timestamp': Decimal('1674765711573372486'), 'tmst': 4265788556, 'signal': -1200, 'snr': -50, 'frequency': Decimal('903900032'), 'datarate': 'helium.data_rate.SF7BW125', 'signature': b'0E\\x02 \\x1c\\xa1\\xe2\\xae\\x9c\\xd8q\\xe0\\x1a\\x1e\\xafm\\x10\\xf3\\xe5\\xfe\\xfe\\xcf\\xcf\\x7f\\xa1\\xe3\\xc0\\x9f/\\x95\\xa23H3\\xb2\\xbf\\x02!\\x00\\xc9\\xb4^\\xf9f\\x8dj\\xd32\\x19\\xed\\xa6r{\\n\\xfe\\x8d2\\xe5\\n\\x83\\xdeW\\xf3\\x98?\\xb6\\x10)W\\xf9\\xb8'}, 'location': '631236467731412479', 'hex_scale': 3333, 'reward_unit': 19999, 'invalid_reason': '', 'participant_side': '', 'gain': 0, 'elevation': 0}],\n",
       "              dtype=object)                                                                                                                                                                                                                                                                                                                                                                                                                                                                                                                                                                                                                                                                                                                                                                                         ,\n",
       "        datetime.date(2023, 1, 26),\n",
       "        's3://iot-ingest/iot_poc.1674766530034.gz'],\n",
       "       ...,\n",
       "       [b'\\xd3\\x00\\x8aM\\xf4D\\x1f\\xe0\\x9c\\x9e\\x83\\xdeP\\x86\\xbc\\xfao\\x9fe\\xcf\\xf6\\xa4m\\x11\\xd9\\x9d #5\\xae\\xb4k',\n",
       "        {'received_timestamp': Decimal('1674835433828'), 'location': '631048116972398591', 'hex_scale': 527, 'report': {'pub_key': b'\\x00\\t\\xf2\\xaf\\xa9)\\xe0\\xa6W\\xa8-\\xab\\xce\\xaf1\\x9e\\r\\xa2\\xc2\\xcf\\x89\\x9b:\\xd7\\xb4\\xe3\\x14`\\xfd\\x1f\\xb4C\\xc5', 'local_entropy': b'H~{q', 'remote_entropy': b'\\xf6\\x0f\\xa3u\\xa6\\xb0\\xd4:\\xec4v\\xc6!n\\xf7.\\x9bL\\xb7\\xbc\\xbf\\xcd\\x9d\\xd14\\xf7R~7\\x14\\x90p', 'data': b'\\xdb\\xca\\xb9\\x1c\\xb72\\xe1', 'frequency': Decimal('868100000'), 'channel': 0, 'datarate': 'helium.data_rate.SF7BW125', 'tx_power': 12, 'timestamp': Decimal('1674835433605443388'), 'signature': b'0E\\x02 \\x7f\\xec\\xca\\xc3=\\xc0\\x83\\x07\\x8bNNG\\x01\\xd2\\xc6\\xca\\x92h37\\xe9\\xc3\\xa1\\xc7W}\\x0f\\x1b\\xa8l\\x85\\x94\\x02!\\x00\\x8fw\\xd9?d&u\\xcb)c\\xed\\x86\\x0e\\xe1F\\xab4\\xa3\\xd9\\xa0\\x0e6G\\xa0\\xeb\\xba\\xf6\\xa1~\\x15\\x19c', 'tmst': 0}, 'reward_unit': 20000, 'gain': 0, 'elevation': 0},\n",
       "        array([{'received_timestamp': Decimal('1674766505029'), 'status': '', 'report': {'pub_key': b'\\x00\\xb1\\xeaX\\xb8%F\\xd8%\\xe6\\x88\\x83Y\\x8cQ\\x0e\\xb2\\x88\\xdbz\\n\\x04P\\x82p\\xf5\\xbcD\\x95j9\\x8e\\xb1', 'data': b'\\xf8\\xb1I\\x0bm2\\xfb', 'timestamp': Decimal('1674766504640770998'), 'tmst': 2643310628, 'signal': -950, 'snr': 82, 'frequency': Decimal('867500032'), 'datarate': 'helium.data_rate.SF7BW125', 'signature': b\"0D\\x02 \\x1e\\xfc\\xbe\\xe2\\xe1?U\\xbc\\x83\\x86Y\\xb4\\xe8rg\\x15\\x0fz\\xd6\\xa7Y\\x067p\\x91-Z\\xfc\\xb6\\xec\\x96a\\x02 L\\xed\\x85\\xe7<\\xa2\\x80\\xc0\\xfd\\xfb\\xe9\\xa5k\\x8a*'j?\\xa5W5\\x16u\\x95\\x02\\xe3\\xbaB\\xcb0\\x19\\xc3\"}, 'location': '631037571756632063', 'hex_scale': 6250, 'reward_unit': 20000, 'invalid_reason': '', 'participant_side': '', 'gain': 0, 'elevation': 0}],\n",
       "              dtype=object)                                                                                                                                                                                                                                                                                                                                                                                                                                                                                                                                                                                                                                                                                                                                                                ,\n",
       "        array([{'received_timestamp': Decimal('1674765821355'), 'status': '', 'report': {'pub_key': b'\\x00tT\\t\\xb5*\\x97\\x9e;\\xf8?xG\\x00\\x96,\\xa7\\x97\\xef\\xc8]\\x17\\xc5\\xdd\\xb6\\xa2\\x17\\xdf_\\x19a\\xcf\\x17', 'data': b't\\x1e*j7\\xd2b\\x04', 'timestamp': Decimal('1674765821159550728'), 'tmst': 1642782811, 'signal': -1260, 'snr': -65, 'frequency': Decimal('867099968'), 'datarate': 'helium.data_rate.SF7BW125', 'signature': b'0E\\x02 DV\\xf8\\\\\\x16u^Dd\\xff5\\x01\\xd8\\x1aZ!0\\xccbF\\xb9\\xfe\\xb9d\\xb9\\x82,YX9\\x00\\x9c\\x02!\\x00\\xa9\\xae\\x9b\\x90\\x92@jb\\x03\\x1b[3dc\\x05\\x99\\xb8{\\xef\\x04\\xe7rTW7\\xd2}\\x0f\\xccn\\xd7\\x88'}, 'location': '631512623596883455', 'hex_scale': 10000, 'reward_unit': 20000, 'invalid_reason': '', 'participant_side': '', 'gain': 0, 'elevation': 0}],\n",
       "              dtype=object)                                                                                                                                                                                                                                                                                                                                                                                                                                                                                                                                                                                                                                                                                                                                                 ,\n",
       "        datetime.date(2023, 1, 27),\n",
       "        's3://iot-ingest/iot_poc.1674835825789.gz'],\n",
       "       [b'B!\\xd8\\xca\\x16\\xc3\\xff\\x1bD\\x82\\xd5$\\nx\\x1c5\\xb0\\xf6\\x1fY\\xc2\\x03Y\\xf9\\x85h1Cpj0\\xb0',\n",
       "        {'received_timestamp': Decimal('1674835433086'), 'location': '631061062675160575', 'hex_scale': 10000, 'report': {'pub_key': b'\\x00\\x1a\\xed\\xf4\\xf1\\x9a\\x1c\\xd18\\x0b\\xa4\\xf9\\xb5eP\\x90-\\x12\\x83\\x11*\\xfb\\xf6V^\\xea\\x93O%\\xa9\\xffzR', 'local_entropy': b'\\xcfd>\\x84', 'remote_entropy': b'\\xf6\\x0f\\xa3u\\xa6\\xb0\\xd4:\\xec4v\\xc6!n\\xf7.\\x9bL\\xb7\\xbc\\xbf\\xcd\\x9d\\xd14\\xf7R~7\\x14\\x90p', 'data': b'\\xb0\\x11\\xf0\\x19\\xa7', 'frequency': Decimal('867700000'), 'channel': 0, 'datarate': 'helium.data_rate.SF7BW125', 'tx_power': 13, 'timestamp': Decimal('1674835432868003637'), 'signature': b'0E\\x02 Z\\xb0\\x02\\x8a\\xcd\\x1f}\\xe22\\xceX \\x14\\x02\\xf2\\xa5\\x15\\xe5\\x9e\\xf8\\x0f}\\x94\\xb2\\xb9\\xd7\\xeb\\x1eq\\x0e)/\\x02!\\x00\\x84\\x1a\\xca,\\xb0Yz\\xa1\\x9d\\xbelU\\xf7s\\xb3\\xdd\\x9a\\xf7\\x82[\\x10\\x8a\\xf7V\\xb1\\xc8\\x19\\xebmj/\\xed', 'tmst': 0}, 'reward_unit': 18926, 'gain': 0, 'elevation': 0},\n",
       "        array([{'received_timestamp': Decimal('1674766505031'), 'status': '', 'report': {'pub_key': b'\\x00\\xd1\\x9c\\x9f\\x07e\\x82\\xd1G\\xdf\\xb8\\xb1$\\x9dw\\x8d\\xc3\\xe3<\\x05L>~G\\xe7\\xe3W\\xe4\\x7f\\x8f\\xed\\xf2\\xbb', 'data': b'\\xf8\\xb1I\\x0bm2\\xfb', 'timestamp': Decimal('1674766504644753911'), 'tmst': 1586464692, 'signal': -1130, 'snr': -62, 'frequency': Decimal('867500032'), 'datarate': 'helium.data_rate.SF7BW125', 'signature': b'0E\\x02!\\x00\\xab4\\x19\\xb7J?`\\xb4\\xb6\\xdfM\\xbc\\xb7;\\xd6\\xb0C\\x9e\\xbe\\xc4t\\x8f~\\x0cS\\xd0vx.0\\xbbT\\x02 |\\xd4\\x82\\x1b\\xb8\\x81\\xa1\\x04>\\xa9\\x01(\\xdb\\xa6$q\\x9bP)\\xdb\\xb1\\xf6\\x7f\\\\d\\xa8kM\\x8em\\xa7\\x94'}, 'location': '631037571756983295', 'hex_scale': 6250, 'reward_unit': 20000, 'invalid_reason': '', 'participant_side': '', 'gain': 0, 'elevation': 0}],\n",
       "              dtype=object)                                                                                                                                                                                                                                                                                                                                                                                                                                                                                                                                                                                                                                                                                                                                                                      ,\n",
       "        array([{'received_timestamp': Decimal('1674765821386'), 'status': '', 'report': {'pub_key': b'\\x00\\x15\\xc3\\xe5\\xe0Z\\xf1Ia\\x0c\\xc3\\x9csB\\xb3]\\xbfE\\xab\\xfe\\xe8\\xeez\\x9ey\\xc5\\x9b3\\xc4\\xcc\\x02\\x9f+', 'data': b't\\x1e*j7\\xd2b\\x04', 'timestamp': Decimal('1674765821152389121'), 'tmst': 3639614923, 'signal': -1230, 'snr': -55, 'frequency': Decimal('867099968'), 'datarate': 'helium.data_rate.SF7BW125', 'signature': b'0E\\x02 5\\x9f\\x9ei3d{\\xce\\xcf\\xf5k\\xa4\\xb0\\xdf\\xb4\\xaa\\xe5J\\x0b\\xcc\\xb87m/:X\\xa8\\xc8\\x87\\xed\\x8b\\xf6\\x02!\\x00\\xea\\xb0O\\x17\\xa8\\xf1\\xa3M3K\\xa8\\x9f\\x89\"\\xf4\\xf49H\\xd6\\xb0\\xf9\\x84\\x85c\\xb86\\x9f|,\\x87&w'}, 'location': '631512638800206335', 'hex_scale': 10000, 'reward_unit': 20000, 'invalid_reason': '', 'participant_side': '', 'gain': 0, 'elevation': 0}],\n",
       "              dtype=object)                                                                                                                                                                                                                                                                                                                                                                                                                                                                                                                                                                                                                                                                                                                                                                       ,\n",
       "        datetime.date(2023, 1, 27),\n",
       "        's3://iot-ingest/iot_poc.1674835825789.gz'],\n",
       "       [b'\\x01\\x82\\x9e\\xc0N\\xceZ\\xb8g\\xb4\\xd9\\x8a\\xc9\\x90\\xa0hw\\xd2\\xb8kK\\x0c\\xf6Na!+GV\\xfcut',\n",
       "        {'received_timestamp': Decimal('1674835437994'), 'location': '630948291371240959', 'hex_scale': 5798, 'report': {'pub_key': b'\\x00\\xeb\\x92\\xf7\\xd4\\x04\\xff\\xce\\x8bG\\xfc\\xe5\\xf8\\xfax_\\x98\\xeb#\\xc7Bg\\x9a\\xfc\\xb9\\xd1\\xb4\\xa9\\xb1%\\x1cOv', 'local_entropy': b'\\xe9\\xac\\xcf-', 'remote_entropy': b'\\xf6\\x0f\\xa3u\\xa6\\xb0\\xd4:\\xec4v\\xc6!n\\xf7.\\x9bL\\xb7\\xbc\\xbf\\xcd\\x9d\\xd14\\xf7R~7\\x14\\x90p', 'data': b'\\xb9/\\xab\\xff\\xf3\\xc8P\\n\\xae`', 'frequency': Decimal('867700000'), 'channel': 0, 'datarate': 'helium.data_rate.SF7BW125', 'tx_power': 13, 'timestamp': Decimal('1674835437626711275'), 'signature': b'0F\\x02!\\x00\\xa8Z}\\xb4\\xd0\\xb8\\xdb\\xa5\\x8b[\\x95u\\xeb\\x91\\xcc\\xe3\\x9a\\xb2\\xb7>\\xed$u\\xd7\\xae(\\xa0\\x9fB\\x89\\xf9\\x90\\x02!\\x00\\xa3\\xb81\\x13\\xe6\\xaen\\ni\\xfe(b\\xa4\\xa6s\\xaaO\\x92$d\\x9dG\\x1dx\\x8c\\x95\\xd7\\x02G\\xb7{\\xa8', 'tmst': 0}, 'reward_unit': 20000, 'gain': 0, 'elevation': 0},\n",
       "        array([{'received_timestamp': Decimal('1674766490378'), 'status': '', 'report': {'pub_key': b'\\x00\\x89\\xda\\x0e[\\xb8~\\xd2\\xcb\\xf5\\x11\\x8c`\\xfc\\xf1\\xac)=t\\xa1\\xdb\\xc3\\xb2\\x1b\\xae\\xe5\\xe64JcD\\x8b\\xd8', 'data': b'\\x81:Z\\xeaK\\xa1\\xd1', 'timestamp': Decimal('1674766490182207017'), 'tmst': 2357317443, 'signal': -1100, 'snr': 25, 'frequency': Decimal('868099968'), 'datarate': 'helium.data_rate.SF7BW125', 'signature': b\"0D\\x02 h\\xe1-%8\\x84\\x97*=o\\x9c\\xa9]-\\xdd\\x00x\\x92\\xe2\\xbcwwU\\x9d(\\xf5<v\\x93\\n\\xb30\\x02 .\\x903?Y'\\x90I5\\x88tS37\\x0e\\x170#\\x03\\xa4\\xc3\\x8a\\x12\\xb1\\xc0 j\\xcdCyX\\x93\"}, 'location': '630948586675574783', 'hex_scale': 10000, 'reward_unit': 19998, 'invalid_reason': '', 'participant_side': '', 'gain': 0, 'elevation': 0}],\n",
       "              dtype=object)                                                                                                                                                                                                                                                                                                                                                                                                                                                                                                                                                                                                                                                                                                                                       ,\n",
       "        array([{'received_timestamp': Decimal('1674765821398'), 'status': '', 'report': {'pub_key': b'\\x00\\xcb\\x91\\xa2\\xfa3\\xa1\\xda9\\x89i}\\xd7\\x12,\\xae\\xca\\x11\\x10\\x9a\\xab\\xb1\\xc7j\\xdfk\\xec\\x18o`\\x05\\xa6#', 'data': b't\\x1e*j7\\xd2b\\x04', 'timestamp': Decimal('1674765821164852381'), 'tmst': 544477925, 'signal': -1240, 'snr': -70, 'frequency': Decimal('867099968'), 'datarate': 'helium.data_rate.SF7BW125', 'signature': b'0E\\x02!\\x00\\xc6\\xe4\\x9b\\xee\\xa6:\\xd8\\xfcB! E\\x06\\xfa\\xdd\\xf5\\xff\\x06\\xb0\\xbc\\xb0-\\xef\\xa9\\xfb\\xbf\\xd0\\x7ft\\x05\\xfcT\\x02 v`\\x8d\\x1d\\x99\\xd8\\xb6\\tC\\xfd\\t\\xc0\\xc4\\x08u?\\t\\xa2\\xe9\\xbd_\\xea\\xbaF\\xb9\\xb0>\\xf9n\\x89\\x8c\\xc7'}, 'location': '631512627394515967', 'hex_scale': 8065, 'reward_unit': 20000, 'invalid_reason': '', 'participant_side': '', 'gain': 0, 'elevation': 0}],\n",
       "              dtype=object)                                                                                                                                                                                                                                                                                                                                                                                                                                                                                                                                                                                                                                                                                                                                                                                          ,\n",
       "        datetime.date(2023, 1, 27),\n",
       "        's3://iot-ingest/iot_poc.1674835825789.gz']], dtype=object)"
      ]
     },
     "execution_count": 29,
     "metadata": {},
     "output_type": "execute_result"
    }
   ],
   "source": [
    "dt.to_pandas().values"
   ]
  },
  {
   "cell_type": "code",
   "execution_count": 1,
   "id": "2b2839a1",
   "metadata": {},
   "outputs": [
    {
     "name": "stderr",
     "output_type": "stream",
     "text": [
      "23/06/13 10:18:30 WARN Utils: Your hostname, Noahs-MacBook-Pro.local resolves to a loopback address: 127.0.0.1; using 192.168.4.32 instead (on interface en0)\n",
      "23/06/13 10:18:30 WARN Utils: Set SPARK_LOCAL_IP if you need to bind to another address\n"
     ]
    },
    {
     "name": "stdout",
     "output_type": "stream",
     "text": [
      ":: loading settings :: url = jar:file:/usr/local/lib/python3.10/site-packages/pyspark/jars/ivy-2.5.1.jar!/org/apache/ivy/core/settings/ivysettings.xml\n"
     ]
    },
    {
     "name": "stderr",
     "output_type": "stream",
     "text": [
      "Ivy Default Cache set to: /Users/nprince/.ivy2/cache\n",
      "The jars for the packages stored in: /Users/nprince/.ivy2/jars\n",
      "io.delta#delta-core_2.12 added as a dependency\n",
      ":: resolving dependencies :: org.apache.spark#spark-submit-parent-d6075321-f879-49fc-ac23-8c37317ae4b3;1.0\n",
      "\tconfs: [default]\n",
      "\tfound io.delta#delta-core_2.12;2.4.0 in central\n",
      "\tfound io.delta#delta-storage;2.4.0 in central\n",
      "\tfound org.antlr#antlr4-runtime;4.9.3 in central\n",
      ":: resolution report :: resolve 145ms :: artifacts dl 5ms\n",
      "\t:: modules in use:\n",
      "\tio.delta#delta-core_2.12;2.4.0 from central in [default]\n",
      "\tio.delta#delta-storage;2.4.0 from central in [default]\n",
      "\torg.antlr#antlr4-runtime;4.9.3 from central in [default]\n",
      "\t---------------------------------------------------------------------\n",
      "\t|                  |            modules            ||   artifacts   |\n",
      "\t|       conf       | number| search|dwnlded|evicted|| number|dwnlded|\n",
      "\t---------------------------------------------------------------------\n",
      "\t|      default     |   3   |   0   |   0   |   0   ||   3   |   0   |\n",
      "\t---------------------------------------------------------------------\n",
      ":: retrieving :: org.apache.spark#spark-submit-parent-d6075321-f879-49fc-ac23-8c37317ae4b3\n",
      "\tconfs: [default]\n",
      "\t0 artifacts copied, 3 already retrieved (0kB/5ms)\n",
      "23/06/13 10:18:30 WARN NativeCodeLoader: Unable to load native-hadoop library for your platform... using builtin-java classes where applicable\n",
      "Setting default log level to \"WARN\".\n",
      "To adjust logging level use sc.setLogLevel(newLevel). For SparkR, use setLogLevel(newLevel).\n"
     ]
    }
   ],
   "source": [
    "import pyspark\n",
    "from delta.pip_utils import configure_spark_with_delta_pip\n",
    "\n",
    "builder = pyspark.sql.SparkSession.builder.appName(\"MyApp\") \\\n",
    "    .config(\"spark.sql.extensions\", \"io.delta.sql.DeltaSparkSessionExtension\") \\\n",
    "    .config(\"spark.sql.catalog.spark_catalog\", \"org.apache.spark.sql.delta.catalog.DeltaCatalog\")\n",
    "\n",
    "spark = configure_spark_with_delta_pip(builder).getOrCreate()"
   ]
  },
  {
   "cell_type": "code",
   "execution_count": 9,
   "id": "941a56a1",
   "metadata": {},
   "outputs": [],
   "source": [
    "table = spark.sql(\"CREATE TABLE IF NOT EXISTS delta.`/tmp/delta-table` USING DELTA AS SELECT col1 as id FROM VALUES 0,1,2,3,4;\")"
   ]
  },
  {
   "cell_type": "code",
   "execution_count": 15,
   "id": "86b40399",
   "metadata": {},
   "outputs": [],
   "source": [
    "spark.conf.set(\"spark.databricks.delta.schema.autoMerge\", \"True\")"
   ]
  },
  {
   "cell_type": "code",
   "execution_count": 7,
   "id": "9ed00b5c",
   "metadata": {},
   "outputs": [],
   "source": [
    "extra_col = spark.sql(\"SELECT 5 as id, 2 as new_col\")"
   ]
  },
  {
   "cell_type": "code",
   "execution_count": 18,
   "id": "2c980e61",
   "metadata": {},
   "outputs": [],
   "source": [
    "extra_col.write.format(\"delta\").mode(\"append\").option(\"mergeSchema\", \"true\").save(\"/tmp/delta-table\")"
   ]
  },
  {
   "cell_type": "code",
   "execution_count": null,
   "id": "a258eefe",
   "metadata": {},
   "outputs": [],
   "source": []
  }
 ],
 "metadata": {
  "kernelspec": {
   "display_name": "Python 3 (ipykernel)",
   "language": "python",
   "name": "python3"
  },
  "language_info": {
   "codemirror_mode": {
    "name": "ipython",
    "version": 3
   },
   "file_extension": ".py",
   "mimetype": "text/x-python",
   "name": "python",
   "nbconvert_exporter": "python",
   "pygments_lexer": "ipython3",
   "version": "3.10.6"
  }
 },
 "nbformat": 4,
 "nbformat_minor": 5
}
