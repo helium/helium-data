{
 "cells": [
  {
   "cell_type": "code",
   "execution_count": 54,
   "id": "2b2839a1",
   "metadata": {
    "scrolled": true
   },
   "outputs": [],
   "source": [
    "import pyspark\n",
    "from delta.pip_utils import configure_spark_with_delta_pip\n",
    "\n",
    "builder = pyspark.sql.SparkSession.builder.appName(\"MyApp\") \\\n",
    "    .config(\"spark.sql.extensions\", \"io.delta.sql.DeltaSparkSessionExtension\") \\\n",
    "    .config(\"spark.sql.catalog.spark_catalog\", \"org.apache.spark.sql.delta.catalog.DeltaCatalog\") \\\n",
    "    .config('spark.jars.packages', 'org.apache.hadoop:hadoop-aws:3.2.0')  \\\n",
    "    .config(\"spark.hadoop.fs.s3a.endpoint\", \"localhost:9000\") \\\n",
    "    .config(\"spark.hadoop.fs.s3a.access.key\", \"minioadmin\") \\\n",
    "    .config(\"spark.hadoop.fs.s3a.secret.key\", \"minioadmin\") \\\n",
    "    .config(\"spark.hadoop.fs.s3a.path.style.access\", \"true\") \\\n",
    "    .config(\"spark.hadoop.fs.s3a.impl\", \"org.apache.hadoop.fs.s3a.S3AFileSystem\") \\\n",
    "    .config(\"spark.hadoop.fs.s3a.connection.ssl.enabled\", \"false\")\n",
    "\n",
    "my_packages = [\"org.apache.hadoop:hadoop-aws:3.3.1\"]\n",
    "spark = configure_spark_with_delta_pip(builder, extra_packages=my_packages).getOrCreate()"
   ]
  },
  {
   "cell_type": "code",
   "execution_count": 55,
   "id": "5014f322",
   "metadata": {},
   "outputs": [
    {
     "data": {
      "text/html": [
       "<style>pre { white-space: pre !important; }</style>"
      ],
      "text/plain": [
       "<IPython.core.display.HTML object>"
      ]
     },
     "metadata": {},
     "output_type": "display_data"
    }
   ],
   "source": [
    "from IPython.core.display import HTML\n",
    "display(HTML(\"<style>pre { white-space: pre !important; }</style>\"))"
   ]
  },
  {
   "cell_type": "code",
   "execution_count": 58,
   "id": "b39c420d",
   "metadata": {},
   "outputs": [],
   "source": [
    "spark.read.format(\"delta\").load(\"s3a://delta/silver/test9\").createOrReplaceTempView(\"test\")\n",
    "spark.read.format(\"delta\").load(\"s3a://delta/bronze/iot_poc_v17\").createOrReplaceTempView(\"iot_poc_v1\")\n"
   ]
  },
  {
   "cell_type": "code",
   "execution_count": 63,
   "id": "67a19d3b",
   "metadata": {},
   "outputs": [
    {
     "data": {
      "text/html": [
       "<div>\n",
       "<style scoped>\n",
       "    .dataframe tbody tr th:only-of-type {\n",
       "        vertical-align: middle;\n",
       "    }\n",
       "\n",
       "    .dataframe tbody tr th {\n",
       "        vertical-align: top;\n",
       "    }\n",
       "\n",
       "    .dataframe thead th {\n",
       "        text-align: right;\n",
       "    }\n",
       "</style>\n",
       "<table border=\"1\" class=\"dataframe\">\n",
       "  <thead>\n",
       "    <tr style=\"text-align: right;\">\n",
       "      <th></th>\n",
       "      <th>length(beacon_report.report.pub_key)</th>\n",
       "    </tr>\n",
       "  </thead>\n",
       "  <tbody>\n",
       "    <tr>\n",
       "      <th>0</th>\n",
       "      <td>33</td>\n",
       "    </tr>\n",
       "  </tbody>\n",
       "</table>\n",
       "</div>"
      ],
      "text/plain": [
       "   length(beacon_report.report.pub_key)\n",
       "0                                    33"
      ]
     },
     "execution_count": 63,
     "metadata": {},
     "output_type": "execute_result"
    }
   ],
   "source": [
    "spark.sql(\"\"\"\\\n",
    "SELECT length(beacon_report.report.pub_key) from iot_poc_v1 limit 1\n",
    "\"\"\").toPandas().head()"
   ]
  },
  {
   "cell_type": "code",
   "execution_count": 57,
   "id": "3d9caa10",
   "metadata": {
    "scrolled": false
   },
   "outputs": [
    {
     "data": {
      "text/html": [
       "<div>\n",
       "<style scoped>\n",
       "    .dataframe tbody tr th:only-of-type {\n",
       "        vertical-align: middle;\n",
       "    }\n",
       "\n",
       "    .dataframe tbody tr th {\n",
       "        vertical-align: top;\n",
       "    }\n",
       "\n",
       "    .dataframe thead th {\n",
       "        text-align: right;\n",
       "    }\n",
       "</style>\n",
       "<table border=\"1\" class=\"dataframe\">\n",
       "  <thead>\n",
       "    <tr style=\"text-align: right;\">\n",
       "      <th></th>\n",
       "      <th>pub_key</th>\n",
       "    </tr>\n",
       "  </thead>\n",
       "  <tbody>\n",
       "    <tr>\n",
       "      <th>0</th>\n",
       "      <td>11TR6JvxBD6TuSya21WcGMPacAVeo5rMyP3RjHfpF7L1Lm...</td>\n",
       "    </tr>\n",
       "    <tr>\n",
       "      <th>1</th>\n",
       "      <td>11Jwii1aKzwxF1ipkncC8mjhyYYPLdLXWfb7hz6EdcG2g3...</td>\n",
       "    </tr>\n",
       "    <tr>\n",
       "      <th>2</th>\n",
       "      <td>11Jwii1aKzwxF1ipkncC8mjhyYYPLdLXWfb7hz6EdcG2g3...</td>\n",
       "    </tr>\n",
       "    <tr>\n",
       "      <th>3</th>\n",
       "      <td>11Jwii1aKzwxF1ipkncC8mjhyYYPLdLXWfb7hz6EdcG2g3...</td>\n",
       "    </tr>\n",
       "    <tr>\n",
       "      <th>4</th>\n",
       "      <td>11Jwii1aKzwxF1ipkncC8mjhyYYPLdLXWfb7hz6EdcG2g3...</td>\n",
       "    </tr>\n",
       "  </tbody>\n",
       "</table>\n",
       "</div>"
      ],
      "text/plain": [
       "                                             pub_key\n",
       "0  11TR6JvxBD6TuSya21WcGMPacAVeo5rMyP3RjHfpF7L1Lm...\n",
       "1  11Jwii1aKzwxF1ipkncC8mjhyYYPLdLXWfb7hz6EdcG2g3...\n",
       "2  11Jwii1aKzwxF1ipkncC8mjhyYYPLdLXWfb7hz6EdcG2g3...\n",
       "3  11Jwii1aKzwxF1ipkncC8mjhyYYPLdLXWfb7hz6EdcG2g3...\n",
       "4  11Jwii1aKzwxF1ipkncC8mjhyYYPLdLXWfb7hz6EdcG2g3..."
      ]
     },
     "execution_count": 57,
     "metadata": {},
     "output_type": "execute_result"
    }
   ],
   "source": [
    "spark.sql(\"\"\"\\\n",
    "SELECT beacon.pub_key from test where beacon.received_timestamp_millis >= '2023-02-25 02:11:46' and beacon.received_timestamp_millis <='2023-02-25 02:11:48' and selected = true limit 5\n",
    "\"\"\").toPandas().head()"
   ]
  },
  {
   "cell_type": "code",
   "execution_count": null,
   "id": "3c857850",
   "metadata": {},
   "outputs": [],
   "source": []
  }
 ],
 "metadata": {
  "kernelspec": {
   "display_name": "Python 3 (ipykernel)",
   "language": "python",
   "name": "python3"
  },
  "language_info": {
   "codemirror_mode": {
    "name": "ipython",
    "version": 3
   },
   "file_extension": ".py",
   "mimetype": "text/x-python",
   "name": "python",
   "nbconvert_exporter": "python",
   "pygments_lexer": "ipython3",
   "version": "3.11.4"
  }
 },
 "nbformat": 4,
 "nbformat_minor": 5
}
