{
 "cells": [
  {
   "cell_type": "code",
   "execution_count": 1,
   "id": "4380c883",
   "metadata": {},
   "outputs": [],
   "source": [
    "from deltalake import DeltaTable\n",
    "\n",
    "dt = DeltaTable(\"s3://delta/iot_beacon_ingest_report_v1\", None, {\n",
    "    \"aws_default_region\": \"us-east-2\",\n",
    "    \"aws_secret_access_key\": \"minioadmin\",\n",
    "    \"allow_http\": \"true\",\n",
    "    \"aws_access_key_id\": \"minioadmin\",\n",
    "    \"aws_endpoint\": \"http://localhost:9000\"\n",
    "})\n",
    "\n"
   ]
  },
  {
   "cell_type": "code",
   "execution_count": 3,
   "id": "f31ac7b4",
   "metadata": {},
   "outputs": [
    {
     "data": {
      "text/plain": [
       "['date=1970-01-01/part-00000-0a2e8608-fdff-4375-9443-36b956112ed7-c000.snappy.parquet']"
      ]
     },
     "execution_count": 3,
     "metadata": {},
     "output_type": "execute_result"
    }
   ],
   "source": [
    "dt.files()"
   ]
  },
  {
   "cell_type": "code",
   "execution_count": 5,
   "id": "ef59b3bb",
   "metadata": {},
   "outputs": [
    {
     "data": {
      "text/html": [
       "<div>\n",
       "<style scoped>\n",
       "    .dataframe tbody tr th:only-of-type {\n",
       "        vertical-align: middle;\n",
       "    }\n",
       "\n",
       "    .dataframe tbody tr th {\n",
       "        vertical-align: top;\n",
       "    }\n",
       "\n",
       "    .dataframe thead th {\n",
       "        text-align: right;\n",
       "    }\n",
       "</style>\n",
       "<table border=\"1\" class=\"dataframe\">\n",
       "  <thead>\n",
       "    <tr style=\"text-align: right;\">\n",
       "      <th></th>\n",
       "      <th>received_timestamp</th>\n",
       "      <th>report</th>\n",
       "      <th>date</th>\n",
       "    </tr>\n",
       "  </thead>\n",
       "  <tbody>\n",
       "    <tr>\n",
       "      <th>0</th>\n",
       "      <td>1677136697837</td>\n",
       "      <td>{'pub_key': b'\\x00F\\xa9L\\x04\\x0f\\xc5\\xe8&gt;\\x819...</td>\n",
       "      <td>1970-01-01</td>\n",
       "    </tr>\n",
       "    <tr>\n",
       "      <th>1</th>\n",
       "      <td>1677136698034</td>\n",
       "      <td>{'pub_key': b'\\x00d\\xe4\\xef\\xc6\\xcb 4\\xedD\\xb8...</td>\n",
       "      <td>1970-01-01</td>\n",
       "    </tr>\n",
       "    <tr>\n",
       "      <th>2</th>\n",
       "      <td>1677136698215</td>\n",
       "      <td>{'pub_key': b'\\x00\\xdc\\xdcD3\\xb2\\x0f8\\xa0Gv\\xc...</td>\n",
       "      <td>1970-01-01</td>\n",
       "    </tr>\n",
       "    <tr>\n",
       "      <th>3</th>\n",
       "      <td>1677136698345</td>\n",
       "      <td>{'pub_key': b'\\x00\\x10\\xe8G\\x12P\\xfe\\xb8\\x1d\\x...</td>\n",
       "      <td>1970-01-01</td>\n",
       "    </tr>\n",
       "    <tr>\n",
       "      <th>4</th>\n",
       "      <td>1677136698376</td>\n",
       "      <td>{'pub_key': b'\\x00w#\\xe0\\xd2tn\\xe8[A\\x97\\xeda\\...</td>\n",
       "      <td>1970-01-01</td>\n",
       "    </tr>\n",
       "    <tr>\n",
       "      <th>...</th>\n",
       "      <td>...</td>\n",
       "      <td>...</td>\n",
       "      <td>...</td>\n",
       "    </tr>\n",
       "    <tr>\n",
       "      <th>7545</th>\n",
       "      <td>1677197117133</td>\n",
       "      <td>{'pub_key': b\"\\x00\\xae\\xf4\\x1byc\\xec\\xc0Q\\x90K...</td>\n",
       "      <td>1970-01-01</td>\n",
       "    </tr>\n",
       "    <tr>\n",
       "      <th>7546</th>\n",
       "      <td>1677197117154</td>\n",
       "      <td>{'pub_key': b'\\x00E\\x02\\xaf\\x8d\\xa8\\t\\x01@9\\xb...</td>\n",
       "      <td>1970-01-01</td>\n",
       "    </tr>\n",
       "    <tr>\n",
       "      <th>7547</th>\n",
       "      <td>1677197117225</td>\n",
       "      <td>{'pub_key': b'\\x00\\xe5\\xe9\\xf4]\\xadS\\xf1eo\\x10...</td>\n",
       "      <td>1970-01-01</td>\n",
       "    </tr>\n",
       "    <tr>\n",
       "      <th>7548</th>\n",
       "      <td>1677197117266</td>\n",
       "      <td>{'pub_key': b'\\x00\\xf5\\xb0\\xd1\\x96\\xf8p\\xe0n\\x...</td>\n",
       "      <td>1970-01-01</td>\n",
       "    </tr>\n",
       "    <tr>\n",
       "      <th>7549</th>\n",
       "      <td>1677197117535</td>\n",
       "      <td>{'pub_key': b'\\x00R\\x10\\xaci\\xb9)\\x9e\\xcb8ILF}...</td>\n",
       "      <td>1970-01-01</td>\n",
       "    </tr>\n",
       "  </tbody>\n",
       "</table>\n",
       "<p>7550 rows × 3 columns</p>\n",
       "</div>"
      ],
      "text/plain": [
       "     received_timestamp                                             report   \n",
       "0         1677136697837  {'pub_key': b'\\x00F\\xa9L\\x04\\x0f\\xc5\\xe8>\\x819...  \\\n",
       "1         1677136698034  {'pub_key': b'\\x00d\\xe4\\xef\\xc6\\xcb 4\\xedD\\xb8...   \n",
       "2         1677136698215  {'pub_key': b'\\x00\\xdc\\xdcD3\\xb2\\x0f8\\xa0Gv\\xc...   \n",
       "3         1677136698345  {'pub_key': b'\\x00\\x10\\xe8G\\x12P\\xfe\\xb8\\x1d\\x...   \n",
       "4         1677136698376  {'pub_key': b'\\x00w#\\xe0\\xd2tn\\xe8[A\\x97\\xeda\\...   \n",
       "...                 ...                                                ...   \n",
       "7545      1677197117133  {'pub_key': b\"\\x00\\xae\\xf4\\x1byc\\xec\\xc0Q\\x90K...   \n",
       "7546      1677197117154  {'pub_key': b'\\x00E\\x02\\xaf\\x8d\\xa8\\t\\x01@9\\xb...   \n",
       "7547      1677197117225  {'pub_key': b'\\x00\\xe5\\xe9\\xf4]\\xadS\\xf1eo\\x10...   \n",
       "7548      1677197117266  {'pub_key': b'\\x00\\xf5\\xb0\\xd1\\x96\\xf8p\\xe0n\\x...   \n",
       "7549      1677197117535  {'pub_key': b'\\x00R\\x10\\xaci\\xb9)\\x9e\\xcb8ILF}...   \n",
       "\n",
       "            date  \n",
       "0     1970-01-01  \n",
       "1     1970-01-01  \n",
       "2     1970-01-01  \n",
       "3     1970-01-01  \n",
       "4     1970-01-01  \n",
       "...          ...  \n",
       "7545  1970-01-01  \n",
       "7546  1970-01-01  \n",
       "7547  1970-01-01  \n",
       "7548  1970-01-01  \n",
       "7549  1970-01-01  \n",
       "\n",
       "[7550 rows x 3 columns]"
      ]
     },
     "execution_count": 5,
     "metadata": {},
     "output_type": "execute_result"
    }
   ],
   "source": [
    "dt.to_pandas()"
   ]
  },
  {
   "cell_type": "code",
   "execution_count": null,
   "id": "2b2839a1",
   "metadata": {},
   "outputs": [],
   "source": []
  }
 ],
 "metadata": {
  "kernelspec": {
   "display_name": "Python 3 (ipykernel)",
   "language": "python",
   "name": "python3"
  },
  "language_info": {
   "codemirror_mode": {
    "name": "ipython",
    "version": 3
   },
   "file_extension": ".py",
   "mimetype": "text/x-python",
   "name": "python",
   "nbconvert_exporter": "python",
   "pygments_lexer": "ipython3",
   "version": "3.10.6"
  }
 },
 "nbformat": 4,
 "nbformat_minor": 5
}
