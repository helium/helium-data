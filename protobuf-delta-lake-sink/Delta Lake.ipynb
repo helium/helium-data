{
 "cells": [
  {
   "cell_type": "code",
   "execution_count": 33,
   "id": "2b2839a1",
   "metadata": {
    "scrolled": true
   },
   "outputs": [],
   "source": [
    "import pyspark\n",
    "from delta.pip_utils import configure_spark_with_delta_pip\n",
    "\n",
    "builder = pyspark.sql.SparkSession.builder.appName(\"MyApp\") \\\n",
    "    .config(\"spark.sql.extensions\", \"io.delta.sql.DeltaSparkSessionExtension\") \\\n",
    "    .config(\"spark.sql.catalog.spark_catalog\", \"org.apache.spark.sql.delta.catalog.DeltaCatalog\") \\\n",
    "    .config('spark.jars.packages', 'org.apache.hadoop:hadoop-aws:3.2.0')  \\\n",
    "    .config(\"spark.hadoop.fs.s3a.endpoint\", \"localhost:9000\") \\\n",
    "    .config(\"spark.hadoop.fs.s3a.access.key\", \"minioadmin\") \\\n",
    "    .config(\"spark.hadoop.fs.s3a.secret.key\", \"minioadmin\") \\\n",
    "    .config(\"spark.hadoop.fs.s3a.path.style.access\", \"true\") \\\n",
    "    .config(\"spark.hadoop.fs.s3a.impl\", \"org.apache.hadoop.fs.s3a.S3AFileSystem\") \\\n",
    "    .config(\"spark.hadoop.fs.s3a.connection.ssl.enabled\", \"false\")\n",
    "\n",
    "my_packages = [\"org.apache.hadoop:hadoop-aws:3.3.1\"]\n",
    "spark = configure_spark_with_delta_pip(builder, extra_packages=my_packages).getOrCreate()"
   ]
  },
  {
   "cell_type": "code",
   "execution_count": 34,
   "id": "5014f322",
   "metadata": {},
   "outputs": [
    {
     "data": {
      "text/html": [
       "<style>pre { white-space: pre !important; }</style>"
      ],
      "text/plain": [
       "<IPython.core.display.HTML object>"
      ]
     },
     "metadata": {},
     "output_type": "display_data"
    }
   ],
   "source": [
    "from IPython.core.display import HTML\n",
    "display(HTML(\"<style>pre { white-space: pre !important; }</style>\"))"
   ]
  },
  {
   "cell_type": "code",
   "execution_count": 43,
   "id": "b39c420d",
   "metadata": {},
   "outputs": [],
   "source": [
    "spark.read.format(\"delta\").load(\"s3a://delta/silver/test11\").createOrReplaceTempView(\"test\")\n",
    "spark.read.format(\"delta\").load(\"s3a://delta/bronze/iot_poc_v18\").createOrReplaceTempView(\"iot_poc_v1\")\n"
   ]
  },
  {
   "cell_type": "code",
   "execution_count": 44,
   "id": "3d9caa10",
   "metadata": {
    "scrolled": false
   },
   "outputs": [
    {
     "name": "stderr",
     "output_type": "stream",
     "text": [
      "[Stage 184:>                                                        (0 + 1) / 1]\r"
     ]
    },
    {
     "name": "stdout",
     "output_type": "stream",
     "text": [
      "+-----------------------+----------------------------------------------------+-----------------------+------------------+----------------------------------------------------+-----+-------+--------------------------------------------------------------------+-------------------+-----------------+----------+------------+----+--------+----------------------------------------------------------------------------------------------------+-----------+---------------------+----------------+--------+---------+\n",
      "|received_timestamp     |pub_key                                             |received_timestamp     |location          |pub_key                                             |scale|status |data                                                                |timestamp_nanos    |concentrator_tmst|signal_dbm|frequency_hz|snr |datarate|signature                                                                                           |reward_unit|invalid_reason       |participant_side|gain_dbi|elevation|\n",
      "+-----------------------+----------------------------------------------------+-----------------------+------------------+----------------------------------------------------+-----+-------+--------------------------------------------------------------------+-------------------+-----------------+----------+------------+----+--------+----------------------------------------------------------------------------------------------------+-----------+---------------------+----------------+--------+---------+\n",
      "|2023-02-25 02:13:44.15 |1125YPFi3YP2cPFRCrSnPzC6RCo3NvhFjGbB5DjFqoRZVmE1f7V8|2023-02-25 02:13:44.15 |null              |null                                                |null |null   |null                                                                |null               |null             |null      |null        |null|null    |null                                                                                                |null       |null                 |null            |null    |null     |\n",
      "|2023-02-25 02:49:04.583|112qqagp38biBAsbE8SA4zqQ463usivyga6MUaDgK5qbHogwbgCA|2023-02-25 02:49:04.583|631048321259334655|112NoD9BM4xpvvo7KheCzS4rm6BBWyJcfaoZd9RhvNknERDqQxvv|0.8  |       |lQArsl44sR4segyLVm6B8zJYFGxa3IMlkh3oyElDLXBXTOVwdyvwAYrW9hpw/qUnP0/t|1677314946227222934|2838602246       |-133.0    |868099968   |-218|        |MEUCIA7eUwZXpojT29i0JtaD7WdNmPaFkJfabeoYanNyy8JDAiEA3MSCF7/LrCQRFdoeULFHS1GG\\r\\n65swDNzBPEu3SoyBIrY=|0.0        |                     |                |0.0     |0        |\n",
      "|2023-02-25 02:13:27.387|112bLuLvsyaVfCQfRycr5W3dmoFGACgGYL5qUxUV8CuCEcavNgwy|2023-02-25 02:13:27.387|null              |11DkRSvDgNbZm7wYERMGGeAWAkcKg59asU6ekJGgfC82zjsmjji |0.0  |invalid|Odd/SgUwye+0Ahef56lkYnQnA6AVOXVlDmHiHl/XFk4UQHVtDnPePeG+kYk7GAoS1OOq|1677312810423592941|1630273812       |-118.0    |867299968   |-188|        |MEQCIAOexkoiOmvoUgYs6NiICSlcDNXad9ohgt5ptqIhO8UUAiBHW8f5JOncvg87o4tQ0EUfpd3P\\r\\notPoRgeF6RpLbAqvEA==|0.0        |max_distance_exceeded|witness         |0.0     |0        |\n",
      "|2023-02-25 02:49:04.583|112qqagp38biBAsbE8SA4zqQ463usivyga6MUaDgK5qbHogwbgCA|2023-02-25 02:49:04.583|631048321314087423|11u2LYEyiW1EHzGHj8evP162cutNDaMH2HTMNhzhFgCM11XsjN2 |0.8  |       |lQArsl44sR4segyLVm6B8zJYFGxa3IMlkh3oyElDLXBXTOVwdyvwAYrW9hpw/qUnP0/t|1677314945985659910|3815783312       |-134.0    |868099968   |-220|        |MEUCIQCuve+Ai121Qtzakh18ARScM8Jy0gRqNO0J8SMdP4p9XgIgWv2GXHYKq12rMLoF7VUIPLEv\\r\\nhCdivbhjJgr50JwHJa0=|0.0        |                     |                |0.0     |0        |\n",
      "|2023-02-25 02:13:27.387|112bLuLvsyaVfCQfRycr5W3dmoFGACgGYL5qUxUV8CuCEcavNgwy|2023-02-25 02:13:27.387|null              |112XgSGnAjeGhDrHaXKFQ5TW1G4GnGwzxzhif5mzFYY8CnrBVGCg|0.0  |invalid|Odd/SgUwye+0Ahef56lkYnQnA6AVOXVlDmHiHl/XFk4UQHVtDnPePeG+kYk7GAoS1OOq|1677312810429176308|3134636633       |-139.0    |867299968   |-225|        |MEQCIEJwk1DWKlU6LDsNC3sL5fY6lkxzZ7Dq84XWNXzsfeXVAiBmSB5hDi5VDw00kYEW9Z1u0d1p\\r\\n0AANoxj1EU5SgtJy9A==|0.0        |max_distance_exceeded|witness         |0.0     |0        |\n",
      "+-----------------------+----------------------------------------------------+-----------------------+------------------+----------------------------------------------------+-----+-------+--------------------------------------------------------------------+-------------------+-----------------+----------+------------+----+--------+----------------------------------------------------------------------------------------------------+-----------+---------------------+----------------+--------+---------+\n",
      "\n"
     ]
    },
    {
     "name": "stderr",
     "output_type": "stream",
     "text": [
      "\r",
      "                                                                                \r"
     ]
    }
   ],
   "source": [
    "spark.sql(\"\"\"\\\n",
    "SELECT beacon.received_timestamp, beacon.pub_key, witness.*\n",
    "from test\n",
    "where beacon.received_timestamp >= '2023-02-25 02:00:00' and \n",
    "      beacon.received_timestamp <= '2023-02-25 10:00:00' and\n",
    "      selected = false and\n",
    "      date = '2023-02-25'\n",
    "limit 5\n",
    "\"\"\").show(truncate=False)"
   ]
  },
  {
   "cell_type": "code",
   "execution_count": null,
   "id": "3c857850",
   "metadata": {},
   "outputs": [],
   "source": []
  }
 ],
 "metadata": {
  "kernelspec": {
   "display_name": "Python 3 (ipykernel)",
   "language": "python",
   "name": "python3"
  },
  "language_info": {
   "codemirror_mode": {
    "name": "ipython",
    "version": 3
   },
   "file_extension": ".py",
   "mimetype": "text/x-python",
   "name": "python",
   "nbconvert_exporter": "python",
   "pygments_lexer": "ipython3",
   "version": "3.11.4"
  }
 },
 "nbformat": 4,
 "nbformat_minor": 5
}
